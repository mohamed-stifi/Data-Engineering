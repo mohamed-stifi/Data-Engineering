{
 "cells": [
  {
   "cell_type": "markdown",
   "metadata": {},
   "source": [
    "# Load the required libraries"
   ]
  },
  {
   "cell_type": "code",
   "execution_count": 1,
   "metadata": {},
   "outputs": [],
   "source": [
    "import pandas as pd\n",
    "import numpy as np\n",
    "import matplotlib.pyplot as plt\n",
    "from sklearn.linear_model import LogisticRegression\n",
    "from sklearn.impute import SimpleImputer\n",
    "from sklearn.model_selection import train_test_split\n",
    "from sklearn.preprocessing import LabelEncoder\n",
    "from sklearn.ensemble import RandomForestClassifier\n",
    "from sklearn.tree import DecisionTreeClassifier\n",
    "from sklearn.metrics import accuracy_score\n",
    "from sklearn.ensemble import AdaBoostClassifier\n",
    "from sklearn.neighbors import KNeighborsClassifier\n",
    "from sklearn.svm import SVC\n",
    "import warnings\n",
    "warnings.filterwarnings(\"ignore\")"
   ]
  },
  {
   "cell_type": "markdown",
   "metadata": {},
   "source": [
    "# Load dataset"
   ]
  },
  {
   "cell_type": "code",
   "execution_count": 2,
   "metadata": {},
   "outputs": [],
   "source": [
    "path_to_data = \"./data/TP_2.csv\"\n",
    "df = pd.read_csv(path_to_data)"
   ]
  },
  {
   "cell_type": "markdown",
   "metadata": {},
   "source": [
    "# Display the first 20 rows and check the shape"
   ]
  },
  {
   "cell_type": "code",
   "execution_count": 3,
   "metadata": {},
   "outputs": [
    {
     "data": {
      "text/html": [
       "<div>\n",
       "<style scoped>\n",
       "    .dataframe tbody tr th:only-of-type {\n",
       "        vertical-align: middle;\n",
       "    }\n",
       "\n",
       "    .dataframe tbody tr th {\n",
       "        vertical-align: top;\n",
       "    }\n",
       "\n",
       "    .dataframe thead th {\n",
       "        text-align: right;\n",
       "    }\n",
       "</style>\n",
       "<table border=\"1\" class=\"dataframe\">\n",
       "  <thead>\n",
       "    <tr style=\"text-align: right;\">\n",
       "      <th></th>\n",
       "      <th>Timestamp</th>\n",
       "      <th>SourceIP</th>\n",
       "      <th>AttackType</th>\n",
       "      <th>TargetIP</th>\n",
       "      <th>AttackDurationHours</th>\n",
       "    </tr>\n",
       "  </thead>\n",
       "  <tbody>\n",
       "    <tr>\n",
       "      <th>0</th>\n",
       "      <td>2023-01-04 22:00:00</td>\n",
       "      <td>235.86.247.11</td>\n",
       "      <td>DDoS</td>\n",
       "      <td>196.107.124.176</td>\n",
       "      <td>5.0</td>\n",
       "    </tr>\n",
       "    <tr>\n",
       "      <th>1</th>\n",
       "      <td>2023-01-03 23:00:00</td>\n",
       "      <td>77.136.188.217</td>\n",
       "      <td>DDoS</td>\n",
       "      <td>139.107.85.198</td>\n",
       "      <td>5.0</td>\n",
       "    </tr>\n",
       "    <tr>\n",
       "      <th>2</th>\n",
       "      <td>2023-01-05 01:00:00</td>\n",
       "      <td>89.193.77.109</td>\n",
       "      <td>Phishing</td>\n",
       "      <td>57.104.181.159</td>\n",
       "      <td>2.0</td>\n",
       "    </tr>\n",
       "    <tr>\n",
       "      <th>3</th>\n",
       "      <td>2023-01-01 11:00:00</td>\n",
       "      <td>4.252.82.108</td>\n",
       "      <td>Phishing</td>\n",
       "      <td>32.5.147.45</td>\n",
       "      <td>2.0</td>\n",
       "    </tr>\n",
       "    <tr>\n",
       "      <th>4</th>\n",
       "      <td>2023-01-03 09:00:00</td>\n",
       "      <td>205.3.29.75</td>\n",
       "      <td>NaN</td>\n",
       "      <td>164.147.161.113</td>\n",
       "      <td>2.0</td>\n",
       "    </tr>\n",
       "    <tr>\n",
       "      <th>5</th>\n",
       "      <td>2023-01-03 01:00:00</td>\n",
       "      <td>11.91.126.70</td>\n",
       "      <td>Brute Force</td>\n",
       "      <td>209.215.241.17</td>\n",
       "      <td>15.0</td>\n",
       "    </tr>\n",
       "    <tr>\n",
       "      <th>6</th>\n",
       "      <td>2023-01-01 16:00:00</td>\n",
       "      <td>234.1.157.231</td>\n",
       "      <td>DDoS</td>\n",
       "      <td>197.122.130.239</td>\n",
       "      <td>NaN</td>\n",
       "    </tr>\n",
       "    <tr>\n",
       "      <th>7</th>\n",
       "      <td>2023-01-04 21:00:00</td>\n",
       "      <td>25.209.29.122</td>\n",
       "      <td>Brute Force</td>\n",
       "      <td>201.194.251.6</td>\n",
       "      <td>2.0</td>\n",
       "    </tr>\n",
       "    <tr>\n",
       "      <th>8</th>\n",
       "      <td>2023-01-01 00:00:00</td>\n",
       "      <td>64.48.200.180</td>\n",
       "      <td>SQL Injection</td>\n",
       "      <td>196.64.247.4</td>\n",
       "      <td>2.0</td>\n",
       "    </tr>\n",
       "    <tr>\n",
       "      <th>9</th>\n",
       "      <td>2023-01-01 07:00:00</td>\n",
       "      <td>125.96.188.100</td>\n",
       "      <td>SQL Injection</td>\n",
       "      <td>200.236.45.192</td>\n",
       "      <td>15.0</td>\n",
       "    </tr>\n",
       "    <tr>\n",
       "      <th>10</th>\n",
       "      <td>2023-01-02 18:00:00</td>\n",
       "      <td>62.72.67.250</td>\n",
       "      <td>NaN</td>\n",
       "      <td>37.87.161.60</td>\n",
       "      <td>NaN</td>\n",
       "    </tr>\n",
       "    <tr>\n",
       "      <th>11</th>\n",
       "      <td>2023-01-01 07:00:00</td>\n",
       "      <td>3.82.46.3</td>\n",
       "      <td>SQL Injection</td>\n",
       "      <td>100.255.205.41</td>\n",
       "      <td>2.0</td>\n",
       "    </tr>\n",
       "    <tr>\n",
       "      <th>12</th>\n",
       "      <td>2023-01-03 22:00:00</td>\n",
       "      <td>2.99.63.225</td>\n",
       "      <td>DDoS</td>\n",
       "      <td>187.93.21.208</td>\n",
       "      <td>NaN</td>\n",
       "    </tr>\n",
       "    <tr>\n",
       "      <th>13</th>\n",
       "      <td>2023-01-02 01:00:00</td>\n",
       "      <td>223.119.84.200</td>\n",
       "      <td>DDoS</td>\n",
       "      <td>52.113.1.83</td>\n",
       "      <td>15.0</td>\n",
       "    </tr>\n",
       "    <tr>\n",
       "      <th>14</th>\n",
       "      <td>2023-01-01 10:00:00</td>\n",
       "      <td>208.176.254.165</td>\n",
       "      <td>SQL Injection</td>\n",
       "      <td>1.102.134.40</td>\n",
       "      <td>NaN</td>\n",
       "    </tr>\n",
       "    <tr>\n",
       "      <th>15</th>\n",
       "      <td>2023-01-03 13:00:00</td>\n",
       "      <td>140.51.136.226</td>\n",
       "      <td>NaN</td>\n",
       "      <td>163.206.71.54</td>\n",
       "      <td>2.0</td>\n",
       "    </tr>\n",
       "    <tr>\n",
       "      <th>16</th>\n",
       "      <td>2023-01-01 10:00:00</td>\n",
       "      <td>139.43.122.89</td>\n",
       "      <td>NaN</td>\n",
       "      <td>221.148.46.200</td>\n",
       "      <td>NaN</td>\n",
       "    </tr>\n",
       "    <tr>\n",
       "      <th>17</th>\n",
       "      <td>2023-01-02 13:00:00</td>\n",
       "      <td>165.158.187.105</td>\n",
       "      <td>Phishing</td>\n",
       "      <td>70.48.33.55</td>\n",
       "      <td>2.0</td>\n",
       "    </tr>\n",
       "    <tr>\n",
       "      <th>18</th>\n",
       "      <td>2023-01-04 08:00:00</td>\n",
       "      <td>67.57.251.162</td>\n",
       "      <td>DDoS</td>\n",
       "      <td>20.171.28.173</td>\n",
       "      <td>NaN</td>\n",
       "    </tr>\n",
       "    <tr>\n",
       "      <th>19</th>\n",
       "      <td>2023-01-02 04:00:00</td>\n",
       "      <td>27.148.251.140</td>\n",
       "      <td>Brute Force</td>\n",
       "      <td>62.73.13.122</td>\n",
       "      <td>5.0</td>\n",
       "    </tr>\n",
       "  </tbody>\n",
       "</table>\n",
       "</div>"
      ],
      "text/plain": [
       "              Timestamp         SourceIP     AttackType         TargetIP  \\\n",
       "0   2023-01-04 22:00:00    235.86.247.11           DDoS  196.107.124.176   \n",
       "1   2023-01-03 23:00:00   77.136.188.217           DDoS   139.107.85.198   \n",
       "2   2023-01-05 01:00:00    89.193.77.109       Phishing   57.104.181.159   \n",
       "3   2023-01-01 11:00:00     4.252.82.108       Phishing      32.5.147.45   \n",
       "4   2023-01-03 09:00:00      205.3.29.75            NaN  164.147.161.113   \n",
       "5   2023-01-03 01:00:00     11.91.126.70    Brute Force   209.215.241.17   \n",
       "6   2023-01-01 16:00:00    234.1.157.231           DDoS  197.122.130.239   \n",
       "7   2023-01-04 21:00:00    25.209.29.122    Brute Force    201.194.251.6   \n",
       "8   2023-01-01 00:00:00    64.48.200.180  SQL Injection     196.64.247.4   \n",
       "9   2023-01-01 07:00:00   125.96.188.100  SQL Injection   200.236.45.192   \n",
       "10  2023-01-02 18:00:00     62.72.67.250            NaN     37.87.161.60   \n",
       "11  2023-01-01 07:00:00        3.82.46.3  SQL Injection   100.255.205.41   \n",
       "12  2023-01-03 22:00:00      2.99.63.225           DDoS    187.93.21.208   \n",
       "13  2023-01-02 01:00:00   223.119.84.200           DDoS      52.113.1.83   \n",
       "14  2023-01-01 10:00:00  208.176.254.165  SQL Injection     1.102.134.40   \n",
       "15  2023-01-03 13:00:00   140.51.136.226            NaN    163.206.71.54   \n",
       "16  2023-01-01 10:00:00    139.43.122.89            NaN   221.148.46.200   \n",
       "17  2023-01-02 13:00:00  165.158.187.105       Phishing      70.48.33.55   \n",
       "18  2023-01-04 08:00:00    67.57.251.162           DDoS    20.171.28.173   \n",
       "19  2023-01-02 04:00:00   27.148.251.140    Brute Force     62.73.13.122   \n",
       "\n",
       "    AttackDurationHours  \n",
       "0                   5.0  \n",
       "1                   5.0  \n",
       "2                   2.0  \n",
       "3                   2.0  \n",
       "4                   2.0  \n",
       "5                  15.0  \n",
       "6                   NaN  \n",
       "7                   2.0  \n",
       "8                   2.0  \n",
       "9                  15.0  \n",
       "10                  NaN  \n",
       "11                  2.0  \n",
       "12                  NaN  \n",
       "13                 15.0  \n",
       "14                  NaN  \n",
       "15                  2.0  \n",
       "16                  NaN  \n",
       "17                  2.0  \n",
       "18                  NaN  \n",
       "19                  5.0  "
      ]
     },
     "execution_count": 3,
     "metadata": {},
     "output_type": "execute_result"
    }
   ],
   "source": [
    "df.head(20)"
   ]
  },
  {
   "cell_type": "code",
   "execution_count": 4,
   "metadata": {},
   "outputs": [
    {
     "data": {
      "text/plain": [
       "(500, 5)"
      ]
     },
     "execution_count": 4,
     "metadata": {},
     "output_type": "execute_result"
    }
   ],
   "source": [
    "df.shape"
   ]
  },
  {
   "cell_type": "markdown",
   "metadata": {},
   "source": [
    "# Describe the columns and their types"
   ]
  },
  {
   "cell_type": "code",
   "execution_count": 5,
   "metadata": {},
   "outputs": [
    {
     "data": {
      "text/plain": [
       "Timestamp               object\n",
       "SourceIP                object\n",
       "AttackType              object\n",
       "TargetIP                object\n",
       "AttackDurationHours    float64\n",
       "dtype: object"
      ]
     },
     "execution_count": 5,
     "metadata": {},
     "output_type": "execute_result"
    }
   ],
   "source": [
    "df.dtypes"
   ]
  },
  {
   "cell_type": "code",
   "execution_count": 6,
   "metadata": {},
   "outputs": [
    {
     "data": {
      "text/html": [
       "<div>\n",
       "<style scoped>\n",
       "    .dataframe tbody tr th:only-of-type {\n",
       "        vertical-align: middle;\n",
       "    }\n",
       "\n",
       "    .dataframe tbody tr th {\n",
       "        vertical-align: top;\n",
       "    }\n",
       "\n",
       "    .dataframe thead th {\n",
       "        text-align: right;\n",
       "    }\n",
       "</style>\n",
       "<table border=\"1\" class=\"dataframe\">\n",
       "  <thead>\n",
       "    <tr style=\"text-align: right;\">\n",
       "      <th></th>\n",
       "      <th>Timestamp</th>\n",
       "      <th>SourceIP</th>\n",
       "      <th>AttackType</th>\n",
       "      <th>TargetIP</th>\n",
       "      <th>AttackDurationHours</th>\n",
       "    </tr>\n",
       "  </thead>\n",
       "  <tbody>\n",
       "    <tr>\n",
       "      <th>count</th>\n",
       "      <td>500</td>\n",
       "      <td>500</td>\n",
       "      <td>382</td>\n",
       "      <td>500</td>\n",
       "      <td>355.000000</td>\n",
       "    </tr>\n",
       "    <tr>\n",
       "      <th>unique</th>\n",
       "      <td>99</td>\n",
       "      <td>500</td>\n",
       "      <td>4</td>\n",
       "      <td>500</td>\n",
       "      <td>NaN</td>\n",
       "    </tr>\n",
       "    <tr>\n",
       "      <th>top</th>\n",
       "      <td>2023-01-02 12:00:00</td>\n",
       "      <td>224.52.42.123</td>\n",
       "      <td>Brute Force</td>\n",
       "      <td>110.92.248.81</td>\n",
       "      <td>NaN</td>\n",
       "    </tr>\n",
       "    <tr>\n",
       "      <th>freq</th>\n",
       "      <td>15</td>\n",
       "      <td>1</td>\n",
       "      <td>109</td>\n",
       "      <td>1</td>\n",
       "      <td>NaN</td>\n",
       "    </tr>\n",
       "    <tr>\n",
       "      <th>mean</th>\n",
       "      <td>NaN</td>\n",
       "      <td>NaN</td>\n",
       "      <td>NaN</td>\n",
       "      <td>NaN</td>\n",
       "      <td>7.735211</td>\n",
       "    </tr>\n",
       "    <tr>\n",
       "      <th>std</th>\n",
       "      <td>NaN</td>\n",
       "      <td>NaN</td>\n",
       "      <td>NaN</td>\n",
       "      <td>NaN</td>\n",
       "      <td>5.689993</td>\n",
       "    </tr>\n",
       "    <tr>\n",
       "      <th>min</th>\n",
       "      <td>NaN</td>\n",
       "      <td>NaN</td>\n",
       "      <td>NaN</td>\n",
       "      <td>NaN</td>\n",
       "      <td>2.000000</td>\n",
       "    </tr>\n",
       "    <tr>\n",
       "      <th>25%</th>\n",
       "      <td>NaN</td>\n",
       "      <td>NaN</td>\n",
       "      <td>NaN</td>\n",
       "      <td>NaN</td>\n",
       "      <td>2.000000</td>\n",
       "    </tr>\n",
       "    <tr>\n",
       "      <th>50%</th>\n",
       "      <td>NaN</td>\n",
       "      <td>NaN</td>\n",
       "      <td>NaN</td>\n",
       "      <td>NaN</td>\n",
       "      <td>5.000000</td>\n",
       "    </tr>\n",
       "    <tr>\n",
       "      <th>75%</th>\n",
       "      <td>NaN</td>\n",
       "      <td>NaN</td>\n",
       "      <td>NaN</td>\n",
       "      <td>NaN</td>\n",
       "      <td>15.000000</td>\n",
       "    </tr>\n",
       "    <tr>\n",
       "      <th>max</th>\n",
       "      <td>NaN</td>\n",
       "      <td>NaN</td>\n",
       "      <td>NaN</td>\n",
       "      <td>NaN</td>\n",
       "      <td>15.000000</td>\n",
       "    </tr>\n",
       "  </tbody>\n",
       "</table>\n",
       "</div>"
      ],
      "text/plain": [
       "                  Timestamp       SourceIP   AttackType       TargetIP  \\\n",
       "count                   500            500          382            500   \n",
       "unique                   99            500            4            500   \n",
       "top     2023-01-02 12:00:00  224.52.42.123  Brute Force  110.92.248.81   \n",
       "freq                     15              1          109              1   \n",
       "mean                    NaN            NaN          NaN            NaN   \n",
       "std                     NaN            NaN          NaN            NaN   \n",
       "min                     NaN            NaN          NaN            NaN   \n",
       "25%                     NaN            NaN          NaN            NaN   \n",
       "50%                     NaN            NaN          NaN            NaN   \n",
       "75%                     NaN            NaN          NaN            NaN   \n",
       "max                     NaN            NaN          NaN            NaN   \n",
       "\n",
       "        AttackDurationHours  \n",
       "count            355.000000  \n",
       "unique                  NaN  \n",
       "top                     NaN  \n",
       "freq                    NaN  \n",
       "mean               7.735211  \n",
       "std                5.689993  \n",
       "min                2.000000  \n",
       "25%                2.000000  \n",
       "50%                5.000000  \n",
       "75%               15.000000  \n",
       "max               15.000000  "
      ]
     },
     "execution_count": 6,
     "metadata": {},
     "output_type": "execute_result"
    }
   ],
   "source": [
    "df.describe(include='all')"
   ]
  },
  {
   "cell_type": "markdown",
   "metadata": {},
   "source": [
    "# Separate numerical and categorical variables"
   ]
  },
  {
   "cell_type": "code",
   "execution_count": 7,
   "metadata": {},
   "outputs": [
    {
     "name": "stdout",
     "output_type": "stream",
     "text": [
      "Numeric columns: 1\n",
      "Categorical columns: 4\n"
     ]
    }
   ],
   "source": [
    "numeric_cols = df.select_dtypes(include=['float64']).columns.to_list()\n",
    "categorical_cols = df.select_dtypes(exclude=[np.number]).columns.tolist()\n",
    "\n",
    "# Count the types\n",
    "print(f\"Numeric columns: {len(numeric_cols)}\")\n",
    "print(f\"Categorical columns: {len(categorical_cols)}\")"
   ]
  },
  {
   "cell_type": "code",
   "execution_count": 8,
   "metadata": {},
   "outputs": [
    {
     "data": {
      "text/plain": [
       "['AttackDurationHours']"
      ]
     },
     "execution_count": 8,
     "metadata": {},
     "output_type": "execute_result"
    }
   ],
   "source": [
    "numeric_cols"
   ]
  },
  {
   "cell_type": "code",
   "execution_count": 9,
   "metadata": {},
   "outputs": [
    {
     "data": {
      "text/plain": [
       "['Timestamp', 'SourceIP', 'AttackType', 'TargetIP']"
      ]
     },
     "execution_count": 9,
     "metadata": {},
     "output_type": "execute_result"
    }
   ],
   "source": [
    "categorical_cols"
   ]
  },
  {
   "cell_type": "markdown",
   "metadata": {},
   "source": [
    "# Plot the number of missing values per column (Bar plot)"
   ]
  },
  {
   "cell_type": "code",
   "execution_count": 10,
   "metadata": {},
   "outputs": [
    {
     "data": {
      "image/png": "[encoded data removed]",
      "text/plain": [
       "<Figure size 640x480 with 1 Axes>"
      ]
     },
     "metadata": {},
     "output_type": "display_data"
    }
   ],
   "source": [
    "df.isnull().sum().plot(kind='bar', xlabel=\"columns\", ylabel=\"#missing value\")\n",
    "                        #title=\"the number of missing value for each column\")\n",
    "plt.xticks(rotation=90)\n",
    "plt.title(\"Missing Values per Column\")\n",
    "plt.show()"
   ]
  },
  {
   "cell_type": "markdown",
   "metadata": {},
   "source": [
    "# Handling missing values for numerical features"
   ]
  },
  {
   "cell_type": "code",
   "execution_count": 11,
   "metadata": {},
   "outputs": [
    {
     "data": {
      "text/plain": [
       "[6, 10, 12, 14, 16, 18, 21, 23, 28, 29]"
      ]
     },
     "execution_count": 11,
     "metadata": {},
     "output_type": "execute_result"
    }
   ],
   "source": [
    "missing = df[numeric_cols].isnull()\n",
    "null_idx = [i for i,_ in missing.stack()[missing.stack()].index.tolist()]\n",
    "null_idx[:10]"
   ]
  },
  {
   "cell_type": "code",
   "execution_count": 12,
   "metadata": {},
   "outputs": [
    {
     "data": {
      "text/plain": [
       "(AttackDurationHours    7.735211\n",
       " dtype: float64,\n",
       " AttackDurationHours    5.0\n",
       " dtype: float64)"
      ]
     },
     "execution_count": 12,
     "metadata": {},
     "output_type": "execute_result"
    }
   ],
   "source": [
    "mean = df[numeric_cols].mean()\n",
    "median = df[numeric_cols].median()\n",
    "\n",
    "mean, median"
   ]
  },
  {
   "cell_type": "markdown",
   "metadata": {},
   "source": [
    "## Replace missing values with the mean"
   ]
  },
  {
   "cell_type": "code",
   "execution_count": 13,
   "metadata": {},
   "outputs": [],
   "source": [
    "# Replace missing numeric values with mean\n",
    "mean_df = df.copy()\n",
    "mean_imputer = SimpleImputer(strategy='mean')\n",
    "mean_df[numeric_cols] = mean_imputer.fit_transform(mean_df[numeric_cols])"
   ]
  },
  {
   "cell_type": "code",
   "execution_count": 14,
   "metadata": {},
   "outputs": [
    {
     "data": {
      "text/plain": [
       "AttackDurationHours    7.735211\n",
       "dtype: float64"
      ]
     },
     "execution_count": 14,
     "metadata": {},
     "output_type": "execute_result"
    }
   ],
   "source": [
    "mean_df[numeric_cols].mean()"
   ]
  },
  {
   "cell_type": "code",
   "execution_count": 15,
   "metadata": {},
   "outputs": [
    {
     "data": {
      "text/plain": [
       "AttackDurationHours    0\n",
       "dtype: int64"
      ]
     },
     "execution_count": 15,
     "metadata": {},
     "output_type": "execute_result"
    }
   ],
   "source": [
    "mean_df[numeric_cols].isnull().sum()"
   ]
  },
  {
   "cell_type": "code",
   "execution_count": 16,
   "metadata": {},
   "outputs": [
    {
     "data": {
      "text/html": [
       "<div>\n",
       "<style scoped>\n",
       "    .dataframe tbody tr th:only-of-type {\n",
       "        vertical-align: middle;\n",
       "    }\n",
       "\n",
       "    .dataframe tbody tr th {\n",
       "        vertical-align: top;\n",
       "    }\n",
       "\n",
       "    .dataframe thead th {\n",
       "        text-align: right;\n",
       "    }\n",
       "</style>\n",
       "<table border=\"1\" class=\"dataframe\">\n",
       "  <thead>\n",
       "    <tr style=\"text-align: right;\">\n",
       "      <th></th>\n",
       "      <th>AttackDurationHours</th>\n",
       "    </tr>\n",
       "  </thead>\n",
       "  <tbody>\n",
       "    <tr>\n",
       "      <th>6</th>\n",
       "      <td>7.735211</td>\n",
       "    </tr>\n",
       "    <tr>\n",
       "      <th>10</th>\n",
       "      <td>7.735211</td>\n",
       "    </tr>\n",
       "    <tr>\n",
       "      <th>12</th>\n",
       "      <td>7.735211</td>\n",
       "    </tr>\n",
       "    <tr>\n",
       "      <th>14</th>\n",
       "      <td>7.735211</td>\n",
       "    </tr>\n",
       "    <tr>\n",
       "      <th>16</th>\n",
       "      <td>7.735211</td>\n",
       "    </tr>\n",
       "  </tbody>\n",
       "</table>\n",
       "</div>"
      ],
      "text/plain": [
       "    AttackDurationHours\n",
       "6              7.735211\n",
       "10             7.735211\n",
       "12             7.735211\n",
       "14             7.735211\n",
       "16             7.735211"
      ]
     },
     "execution_count": 16,
     "metadata": {},
     "output_type": "execute_result"
    }
   ],
   "source": [
    "mean_df[numeric_cols].loc[null_idx].head()"
   ]
  },
  {
   "cell_type": "markdown",
   "metadata": {},
   "source": [
    "## Replace missing values with the median"
   ]
  },
  {
   "cell_type": "code",
   "execution_count": 17,
   "metadata": {},
   "outputs": [],
   "source": [
    "median_df = df.copy()\n",
    "median_imputer = SimpleImputer(strategy='median')\n",
    "median_df[numeric_cols] = median_imputer.fit_transform(median_df[numeric_cols])"
   ]
  },
  {
   "cell_type": "code",
   "execution_count": 18,
   "metadata": {},
   "outputs": [
    {
     "data": {
      "text/plain": [
       "AttackDurationHours    5.0\n",
       "dtype: float64"
      ]
     },
     "execution_count": 18,
     "metadata": {},
     "output_type": "execute_result"
    }
   ],
   "source": [
    "median_df[numeric_cols].median()"
   ]
  },
  {
   "cell_type": "code",
   "execution_count": 19,
   "metadata": {},
   "outputs": [
    {
     "data": {
      "text/plain": [
       "AttackDurationHours    0\n",
       "dtype: int64"
      ]
     },
     "execution_count": 19,
     "metadata": {},
     "output_type": "execute_result"
    }
   ],
   "source": [
    "median_df[numeric_cols].isnull().sum()"
   ]
  },
  {
   "cell_type": "code",
   "execution_count": 20,
   "metadata": {},
   "outputs": [
    {
     "data": {
      "text/html": [
       "<div>\n",
       "<style scoped>\n",
       "    .dataframe tbody tr th:only-of-type {\n",
       "        vertical-align: middle;\n",
       "    }\n",
       "\n",
       "    .dataframe tbody tr th {\n",
       "        vertical-align: top;\n",
       "    }\n",
       "\n",
       "    .dataframe thead th {\n",
       "        text-align: right;\n",
       "    }\n",
       "</style>\n",
       "<table border=\"1\" class=\"dataframe\">\n",
       "  <thead>\n",
       "    <tr style=\"text-align: right;\">\n",
       "      <th></th>\n",
       "      <th>AttackDurationHours</th>\n",
       "    </tr>\n",
       "  </thead>\n",
       "  <tbody>\n",
       "    <tr>\n",
       "      <th>6</th>\n",
       "      <td>5.0</td>\n",
       "    </tr>\n",
       "    <tr>\n",
       "      <th>10</th>\n",
       "      <td>5.0</td>\n",
       "    </tr>\n",
       "    <tr>\n",
       "      <th>12</th>\n",
       "      <td>5.0</td>\n",
       "    </tr>\n",
       "    <tr>\n",
       "      <th>14</th>\n",
       "      <td>5.0</td>\n",
       "    </tr>\n",
       "    <tr>\n",
       "      <th>16</th>\n",
       "      <td>5.0</td>\n",
       "    </tr>\n",
       "  </tbody>\n",
       "</table>\n",
       "</div>"
      ],
      "text/plain": [
       "    AttackDurationHours\n",
       "6                   5.0\n",
       "10                  5.0\n",
       "12                  5.0\n",
       "14                  5.0\n",
       "16                  5.0"
      ]
     },
     "execution_count": 20,
     "metadata": {},
     "output_type": "execute_result"
    }
   ],
   "source": [
    "median_df[numeric_cols].loc[null_idx].head()"
   ]
  },
  {
   "cell_type": "markdown",
   "metadata": {},
   "source": [
    "## Drop rows with missing values"
   ]
  },
  {
   "cell_type": "code",
   "execution_count": 21,
   "metadata": {},
   "outputs": [],
   "source": [
    "drop_df =df.copy()\n",
    "drop_df = drop_df.dropna(subset=numeric_cols)"
   ]
  },
  {
   "cell_type": "code",
   "execution_count": 22,
   "metadata": {},
   "outputs": [
    {
     "data": {
      "text/plain": [
       "((355, 5), (500, 5), 145)"
      ]
     },
     "execution_count": 22,
     "metadata": {},
     "output_type": "execute_result"
    }
   ],
   "source": [
    "drop_df.shape , df.shape, len(null_idx)"
   ]
  },
  {
   "cell_type": "code",
   "execution_count": 23,
   "metadata": {},
   "outputs": [
    {
     "data": {
      "text/plain": [
       "True"
      ]
     },
     "execution_count": 23,
     "metadata": {},
     "output_type": "execute_result"
    }
   ],
   "source": [
    "drop_df.shape[0] == df.shape[0] - len(null_idx)"
   ]
  },
  {
   "cell_type": "code",
   "execution_count": 24,
   "metadata": {},
   "outputs": [
    {
     "data": {
      "text/plain": [
       "AttackDurationHours    0\n",
       "dtype: int64"
      ]
     },
     "execution_count": 24,
     "metadata": {},
     "output_type": "execute_result"
    }
   ],
   "source": [
    "drop_df[numeric_cols].isnull().sum()"
   ]
  },
  {
   "cell_type": "markdown",
   "metadata": {},
   "source": [
    "## Replace missing values with a constant"
   ]
  },
  {
   "cell_type": "code",
   "execution_count": 25,
   "metadata": {},
   "outputs": [],
   "source": [
    "constant_df = df.copy()\n",
    "constant_imputer = SimpleImputer(strategy='constant', fill_value=0)\n",
    "constant_df[numeric_cols] = constant_imputer.fit_transform(constant_df[numeric_cols])"
   ]
  },
  {
   "cell_type": "code",
   "execution_count": 26,
   "metadata": {},
   "outputs": [
    {
     "data": {
      "text/html": [
       "<div>\n",
       "<style scoped>\n",
       "    .dataframe tbody tr th:only-of-type {\n",
       "        vertical-align: middle;\n",
       "    }\n",
       "\n",
       "    .dataframe tbody tr th {\n",
       "        vertical-align: top;\n",
       "    }\n",
       "\n",
       "    .dataframe thead th {\n",
       "        text-align: right;\n",
       "    }\n",
       "</style>\n",
       "<table border=\"1\" class=\"dataframe\">\n",
       "  <thead>\n",
       "    <tr style=\"text-align: right;\">\n",
       "      <th></th>\n",
       "      <th>AttackDurationHours</th>\n",
       "    </tr>\n",
       "  </thead>\n",
       "  <tbody>\n",
       "    <tr>\n",
       "      <th>6</th>\n",
       "      <td>0.0</td>\n",
       "    </tr>\n",
       "    <tr>\n",
       "      <th>10</th>\n",
       "      <td>0.0</td>\n",
       "    </tr>\n",
       "    <tr>\n",
       "      <th>12</th>\n",
       "      <td>0.0</td>\n",
       "    </tr>\n",
       "    <tr>\n",
       "      <th>14</th>\n",
       "      <td>0.0</td>\n",
       "    </tr>\n",
       "    <tr>\n",
       "      <th>16</th>\n",
       "      <td>0.0</td>\n",
       "    </tr>\n",
       "  </tbody>\n",
       "</table>\n",
       "</div>"
      ],
      "text/plain": [
       "    AttackDurationHours\n",
       "6                   0.0\n",
       "10                  0.0\n",
       "12                  0.0\n",
       "14                  0.0\n",
       "16                  0.0"
      ]
     },
     "execution_count": 26,
     "metadata": {},
     "output_type": "execute_result"
    }
   ],
   "source": [
    "constant_df[numeric_cols].loc[null_idx].head()"
   ]
  },
  {
   "cell_type": "code",
   "execution_count": 27,
   "metadata": {},
   "outputs": [
    {
     "data": {
      "text/plain": [
       "AttackDurationHours    0\n",
       "dtype: int64"
      ]
     },
     "execution_count": 27,
     "metadata": {},
     "output_type": "execute_result"
    }
   ],
   "source": [
    "constant_df[numeric_cols].isnull().sum()"
   ]
  },
  {
   "cell_type": "markdown",
   "metadata": {},
   "source": [
    "## Forward fill and backward fill methods"
   ]
  },
  {
   "cell_type": "code",
   "execution_count": 28,
   "metadata": {},
   "outputs": [],
   "source": [
    "forward_df = df.copy()\n",
    "# Forward fill method\n",
    "forward_df[numeric_cols] = forward_df[numeric_cols].ffill()"
   ]
  },
  {
   "cell_type": "code",
   "execution_count": 29,
   "metadata": {},
   "outputs": [
    {
     "data": {
      "text/plain": [
       "AttackDurationHours    0\n",
       "dtype: int64"
      ]
     },
     "execution_count": 29,
     "metadata": {},
     "output_type": "execute_result"
    }
   ],
   "source": [
    "forward_df[numeric_cols].isnull().sum()"
   ]
  },
  {
   "cell_type": "code",
   "execution_count": 30,
   "metadata": {},
   "outputs": [
    {
     "data": {
      "text/html": [
       "<div>\n",
       "<style scoped>\n",
       "    .dataframe tbody tr th:only-of-type {\n",
       "        vertical-align: middle;\n",
       "    }\n",
       "\n",
       "    .dataframe tbody tr th {\n",
       "        vertical-align: top;\n",
       "    }\n",
       "\n",
       "    .dataframe thead th {\n",
       "        text-align: right;\n",
       "    }\n",
       "</style>\n",
       "<table border=\"1\" class=\"dataframe\">\n",
       "  <thead>\n",
       "    <tr style=\"text-align: right;\">\n",
       "      <th></th>\n",
       "      <th>AttackDurationHours</th>\n",
       "    </tr>\n",
       "  </thead>\n",
       "  <tbody>\n",
       "    <tr>\n",
       "      <th>6</th>\n",
       "      <td>15.0</td>\n",
       "    </tr>\n",
       "    <tr>\n",
       "      <th>10</th>\n",
       "      <td>15.0</td>\n",
       "    </tr>\n",
       "    <tr>\n",
       "      <th>12</th>\n",
       "      <td>2.0</td>\n",
       "    </tr>\n",
       "    <tr>\n",
       "      <th>14</th>\n",
       "      <td>15.0</td>\n",
       "    </tr>\n",
       "    <tr>\n",
       "      <th>16</th>\n",
       "      <td>2.0</td>\n",
       "    </tr>\n",
       "  </tbody>\n",
       "</table>\n",
       "</div>"
      ],
      "text/plain": [
       "    AttackDurationHours\n",
       "6                  15.0\n",
       "10                 15.0\n",
       "12                  2.0\n",
       "14                 15.0\n",
       "16                  2.0"
      ]
     },
     "execution_count": 30,
     "metadata": {},
     "output_type": "execute_result"
    }
   ],
   "source": [
    "forward_df[numeric_cols].loc[null_idx].head()"
   ]
  },
  {
   "cell_type": "code",
   "execution_count": 31,
   "metadata": {},
   "outputs": [],
   "source": [
    "# Backward fill method\n",
    "Backward_df = df.copy()\n",
    "Backward_df[numeric_cols] = Backward_df[numeric_cols].bfill()\n"
   ]
  },
  {
   "cell_type": "code",
   "execution_count": 32,
   "metadata": {},
   "outputs": [
    {
     "data": {
      "text/plain": [
       "AttackDurationHours    0\n",
       "dtype: int64"
      ]
     },
     "execution_count": 32,
     "metadata": {},
     "output_type": "execute_result"
    }
   ],
   "source": [
    "Backward_df[numeric_cols].isnull().sum()"
   ]
  },
  {
   "cell_type": "code",
   "execution_count": 33,
   "metadata": {},
   "outputs": [
    {
     "data": {
      "text/html": [
       "<div>\n",
       "<style scoped>\n",
       "    .dataframe tbody tr th:only-of-type {\n",
       "        vertical-align: middle;\n",
       "    }\n",
       "\n",
       "    .dataframe tbody tr th {\n",
       "        vertical-align: top;\n",
       "    }\n",
       "\n",
       "    .dataframe thead th {\n",
       "        text-align: right;\n",
       "    }\n",
       "</style>\n",
       "<table border=\"1\" class=\"dataframe\">\n",
       "  <thead>\n",
       "    <tr style=\"text-align: right;\">\n",
       "      <th></th>\n",
       "      <th>AttackDurationHours</th>\n",
       "    </tr>\n",
       "  </thead>\n",
       "  <tbody>\n",
       "    <tr>\n",
       "      <th>6</th>\n",
       "      <td>2.0</td>\n",
       "    </tr>\n",
       "    <tr>\n",
       "      <th>10</th>\n",
       "      <td>2.0</td>\n",
       "    </tr>\n",
       "    <tr>\n",
       "      <th>12</th>\n",
       "      <td>15.0</td>\n",
       "    </tr>\n",
       "    <tr>\n",
       "      <th>14</th>\n",
       "      <td>2.0</td>\n",
       "    </tr>\n",
       "    <tr>\n",
       "      <th>16</th>\n",
       "      <td>2.0</td>\n",
       "    </tr>\n",
       "  </tbody>\n",
       "</table>\n",
       "</div>"
      ],
      "text/plain": [
       "    AttackDurationHours\n",
       "6                   2.0\n",
       "10                  2.0\n",
       "12                 15.0\n",
       "14                  2.0\n",
       "16                  2.0"
      ]
     },
     "execution_count": 33,
     "metadata": {},
     "output_type": "execute_result"
    }
   ],
   "source": [
    "Backward_df[numeric_cols].loc[null_idx].head()"
   ]
  },
  {
   "cell_type": "markdown",
   "metadata": {},
   "source": [
    "## Replace missing values using interpolation"
   ]
  },
  {
   "cell_type": "code",
   "execution_count": 34,
   "metadata": {},
   "outputs": [],
   "source": [
    "# Interpolate missing values\n",
    "Interpolate_df = df.copy()\n",
    "Interpolate_df[numeric_cols] = Interpolate_df[numeric_cols].interpolate()"
   ]
  },
  {
   "cell_type": "code",
   "execution_count": 35,
   "metadata": {},
   "outputs": [
    {
     "data": {
      "text/plain": [
       "AttackDurationHours    0\n",
       "dtype: int64"
      ]
     },
     "execution_count": 35,
     "metadata": {},
     "output_type": "execute_result"
    }
   ],
   "source": [
    "Interpolate_df[numeric_cols].isnull().sum()"
   ]
  },
  {
   "cell_type": "code",
   "execution_count": 36,
   "metadata": {},
   "outputs": [
    {
     "data": {
      "text/html": [
       "<div>\n",
       "<style scoped>\n",
       "    .dataframe tbody tr th:only-of-type {\n",
       "        vertical-align: middle;\n",
       "    }\n",
       "\n",
       "    .dataframe tbody tr th {\n",
       "        vertical-align: top;\n",
       "    }\n",
       "\n",
       "    .dataframe thead th {\n",
       "        text-align: right;\n",
       "    }\n",
       "</style>\n",
       "<table border=\"1\" class=\"dataframe\">\n",
       "  <thead>\n",
       "    <tr style=\"text-align: right;\">\n",
       "      <th></th>\n",
       "      <th>AttackDurationHours</th>\n",
       "    </tr>\n",
       "  </thead>\n",
       "  <tbody>\n",
       "    <tr>\n",
       "      <th>6</th>\n",
       "      <td>8.5</td>\n",
       "    </tr>\n",
       "    <tr>\n",
       "      <th>10</th>\n",
       "      <td>8.5</td>\n",
       "    </tr>\n",
       "    <tr>\n",
       "      <th>12</th>\n",
       "      <td>8.5</td>\n",
       "    </tr>\n",
       "    <tr>\n",
       "      <th>14</th>\n",
       "      <td>8.5</td>\n",
       "    </tr>\n",
       "    <tr>\n",
       "      <th>16</th>\n",
       "      <td>2.0</td>\n",
       "    </tr>\n",
       "  </tbody>\n",
       "</table>\n",
       "</div>"
      ],
      "text/plain": [
       "    AttackDurationHours\n",
       "6                   8.5\n",
       "10                  8.5\n",
       "12                  8.5\n",
       "14                  8.5\n",
       "16                  2.0"
      ]
     },
     "execution_count": 36,
     "metadata": {},
     "output_type": "execute_result"
    }
   ],
   "source": [
    "Interpolate_df[numeric_cols].loc[null_idx].head()"
   ]
  },
  {
   "cell_type": "markdown",
   "metadata": {},
   "source": [
    "## Replace missing values using a regression model"
   ]
  },
  {
   "cell_type": "code",
   "execution_count": 37,
   "metadata": {},
   "outputs": [
    {
     "name": "stdout",
     "output_type": "stream",
     "text": [
      "Predicted AttackDurationHours for model LogisticRegression:\n",
      "              Timestamp         SourceIP     AttackType         TargetIP  \\\n",
      "6   2023-01-01 16:00:00    234.1.157.231           DDoS  197.122.130.239   \n",
      "10  2023-01-02 18:00:00     62.72.67.250            NaN     37.87.161.60   \n",
      "12  2023-01-03 22:00:00      2.99.63.225           DDoS    187.93.21.208   \n",
      "14  2023-01-01 10:00:00  208.176.254.165  SQL Injection     1.102.134.40   \n",
      "16  2023-01-01 10:00:00    139.43.122.89            NaN   221.148.46.200   \n",
      "\n",
      "    AttackDurationHours  \n",
      "6                   5.0  \n",
      "10                 15.0  \n",
      "12                  5.0  \n",
      "14                 15.0  \n",
      "16                 15.0  \n",
      "Accuracy of LogisticRegression: 0.38\n",
      "Predicted AttackDurationHours for model RandomForestClassifier:\n",
      "              Timestamp         SourceIP     AttackType         TargetIP  \\\n",
      "6   2023-01-01 16:00:00    234.1.157.231           DDoS  197.122.130.239   \n",
      "10  2023-01-02 18:00:00     62.72.67.250            NaN     37.87.161.60   \n",
      "12  2023-01-03 22:00:00      2.99.63.225           DDoS    187.93.21.208   \n",
      "14  2023-01-01 10:00:00  208.176.254.165  SQL Injection     1.102.134.40   \n",
      "16  2023-01-01 10:00:00    139.43.122.89            NaN   221.148.46.200   \n",
      "\n",
      "    AttackDurationHours  \n",
      "6                  15.0  \n",
      "10                  2.0  \n",
      "12                 15.0  \n",
      "14                 15.0  \n",
      "16                  2.0  \n",
      "Accuracy of RandomForestClassifier: 0.28\n",
      "Predicted AttackDurationHours for model DecisionTreeClassifier:\n",
      "              Timestamp         SourceIP     AttackType         TargetIP  \\\n",
      "6   2023-01-01 16:00:00    234.1.157.231           DDoS  197.122.130.239   \n",
      "10  2023-01-02 18:00:00     62.72.67.250            NaN     37.87.161.60   \n",
      "12  2023-01-03 22:00:00      2.99.63.225           DDoS    187.93.21.208   \n",
      "14  2023-01-01 10:00:00  208.176.254.165  SQL Injection     1.102.134.40   \n",
      "16  2023-01-01 10:00:00    139.43.122.89            NaN   221.148.46.200   \n",
      "\n",
      "    AttackDurationHours  \n",
      "6                  15.0  \n",
      "10                  2.0  \n",
      "12                 15.0  \n",
      "14                 15.0  \n",
      "16                  2.0  \n",
      "Accuracy of DecisionTreeClassifier: 0.28\n",
      "Predicted AttackDurationHours for model AdaBoostClassifier:\n",
      "              Timestamp         SourceIP     AttackType         TargetIP  \\\n",
      "6   2023-01-01 16:00:00    234.1.157.231           DDoS  197.122.130.239   \n",
      "10  2023-01-02 18:00:00     62.72.67.250            NaN     37.87.161.60   \n",
      "12  2023-01-03 22:00:00      2.99.63.225           DDoS    187.93.21.208   \n",
      "14  2023-01-01 10:00:00  208.176.254.165  SQL Injection     1.102.134.40   \n",
      "16  2023-01-01 10:00:00    139.43.122.89            NaN   221.148.46.200   \n",
      "\n",
      "    AttackDurationHours  \n",
      "6                  15.0  \n",
      "10                  2.0  \n",
      "12                 15.0  \n",
      "14                 15.0  \n",
      "16                  2.0  \n",
      "Accuracy of AdaBoostClassifier: 0.28\n",
      "Predicted AttackDurationHours for model KNeighborsClassifier:\n",
      "              Timestamp         SourceIP     AttackType         TargetIP  \\\n",
      "6   2023-01-01 16:00:00    234.1.157.231           DDoS  197.122.130.239   \n",
      "10  2023-01-02 18:00:00     62.72.67.250            NaN     37.87.161.60   \n",
      "12  2023-01-03 22:00:00      2.99.63.225           DDoS    187.93.21.208   \n",
      "14  2023-01-01 10:00:00  208.176.254.165  SQL Injection     1.102.134.40   \n",
      "16  2023-01-01 10:00:00    139.43.122.89            NaN   221.148.46.200   \n",
      "\n",
      "    AttackDurationHours  \n",
      "6                  15.0  \n",
      "10                  2.0  \n",
      "12                 15.0  \n",
      "14                 15.0  \n",
      "16                  2.0  \n",
      "Accuracy of KNeighborsClassifier: 0.32\n",
      "Predicted AttackDurationHours for model SVC:\n",
      "              Timestamp         SourceIP     AttackType         TargetIP  \\\n",
      "6   2023-01-01 16:00:00    234.1.157.231           DDoS  197.122.130.239   \n",
      "10  2023-01-02 18:00:00     62.72.67.250            NaN     37.87.161.60   \n",
      "12  2023-01-03 22:00:00      2.99.63.225           DDoS    187.93.21.208   \n",
      "14  2023-01-01 10:00:00  208.176.254.165  SQL Injection     1.102.134.40   \n",
      "16  2023-01-01 10:00:00    139.43.122.89            NaN   221.148.46.200   \n",
      "\n",
      "    AttackDurationHours  \n",
      "6                  15.0  \n",
      "10                  2.0  \n",
      "12                 15.0  \n",
      "14                 15.0  \n",
      "16                  2.0  \n",
      "Accuracy of SVC: 0.28\n"
     ]
    }
   ],
   "source": [
    "data = df.copy()\n",
    "# Create a copy of the original data\n",
    "original_data = data.copy()\n",
    "\n",
    "# Identify null values in 'AttackDurationHours'\n",
    "null_val = list(data[data['AttackDurationHours'].isnull()].index)\n",
    "not_null = [i for i in range(data.shape[0]) if i not in null_val]\n",
    "\n",
    "le_attack = LabelEncoder()\n",
    "\n",
    "# Encode the categorical feature\n",
    "data['AttackType'] = le_attack.fit_transform(data['AttackType'].astype(str))\n",
    "\n",
    "# Drop rows with missing AttackDurationHours\n",
    "train_data = data.loc[not_null]\n",
    "\n",
    "# Features and target\n",
    "X = train_data[['AttackType']]\n",
    "y = train_data['AttackDurationHours']\n",
    "\n",
    "# Impute missing values in y using SimpleImputer\n",
    "imputer = SimpleImputer(strategy='mean')\n",
    "y = imputer.fit_transform(y.values.reshape(-1, 1)).ravel()\n",
    "\n",
    "# Split the data after imputation\n",
    "X_train, X_test, y_train, y_test = train_test_split(X, y, test_size=0.2, random_state=42)\n",
    "\n",
    "# Initialize models\n",
    "models = {\n",
    "    'LogisticRegression': LogisticRegression(),\n",
    "    'RandomForestClassifier': RandomForestClassifier(),\n",
    "    'DecisionTreeClassifier': DecisionTreeClassifier(),\n",
    "    'AdaBoostClassifier': AdaBoostClassifier(),\n",
    "    'KNeighborsClassifier': KNeighborsClassifier(),\n",
    "    'SVC': SVC()\n",
    "}\n",
    "\n",
    "# Dictionary to store predictions for each model\n",
    "predictions = {}\n",
    "Listeacc = []\n",
    "Listmod = []\n",
    "best_accuracy = 0\n",
    "best_model_name = None\n",
    "best_temp_data = None\n",
    "\n",
    "# Train the model and predict missing AttackDurationHours values\n",
    "for model_name, model in models.items():\n",
    "    model.fit(X_train, y_train)\n",
    "\n",
    "    # Prepare the features for prediction\n",
    "    missing_data = data.loc[null_val]\n",
    "    X_missing = missing_data[['AttackType']]\n",
    "\n",
    "    # Predict the missing AttackDurationHours values\n",
    "    predicted_attack_durations = model.predict(X_missing)\n",
    "\n",
    "    # Store predictions in the dictionary\n",
    "    predictions[model_name] = predicted_attack_durations\n",
    "\n",
    "    # Fill the missing values in a copy of the original data for this model\n",
    "    temp_data = original_data.copy()\n",
    "    temp_data.loc[null_val, 'AttackDurationHours'] = predicted_attack_durations\n",
    "\n",
    "    # Print the filled missing values for the current model\n",
    "    print(f'Predicted AttackDurationHours for model {model_name}:')\n",
    "    print(temp_data.loc[null_val].head())\n",
    "\n",
    "    # Evaluate the model on the test set\n",
    "    y_pred = model.predict(X_test)\n",
    "    accuracy = accuracy_score(y_test, y_pred)\n",
    "    Listeacc.append(accuracy)\n",
    "    Listmod.append(model_name)\n",
    "    print(f'Accuracy of {model_name}: {accuracy:.2f}')\n",
    "    \n",
    "    # Track the best model based on accuracy\n",
    "    if accuracy > best_accuracy:\n",
    "        best_accuracy = accuracy\n",
    "        best_model_name = model_name\n",
    "        best_temp_data = temp_data"
   ]
  },
  {
   "cell_type": "code",
   "execution_count": 57,
   "metadata": {},
   "outputs": [
    {
     "data": {
      "image/png": "[encoded data removed]",
      "text/plain": [
       "<Figure size 1000x600 with 1 Axes>"
      ]
     },
     "metadata": {},
     "output_type": "display_data"
    }
   ],
   "source": [
    "# Plotting the accuracy of each model\n",
    "plt.figure(figsize=(10, 6))\n",
    "plt.barh(Listmod, Listeacc)\n",
    "plt.xlabel('Accuracy')\n",
    "plt.title('Model Accuracy Comparison')\n",
    "plt.xlim(0, 1)  # Setting the x-axis limits from 0 to 1\n",
    "plt.grid(axis='x', linestyle='--')\n",
    "plt.show()"
   ]
  },
  {
   "cell_type": "code",
   "execution_count": 39,
   "metadata": {},
   "outputs": [
    {
     "name": "stdout",
     "output_type": "stream",
     "text": [
      "\n",
      "Best Model: LogisticRegression with Accuracy: 0.38\n"
     ]
    },
    {
     "data": {
      "text/html": [
       "<div>\n",
       "<style scoped>\n",
       "    .dataframe tbody tr th:only-of-type {\n",
       "        vertical-align: middle;\n",
       "    }\n",
       "\n",
       "    .dataframe tbody tr th {\n",
       "        vertical-align: top;\n",
       "    }\n",
       "\n",
       "    .dataframe thead th {\n",
       "        text-align: right;\n",
       "    }\n",
       "</style>\n",
       "<table border=\"1\" class=\"dataframe\">\n",
       "  <thead>\n",
       "    <tr style=\"text-align: right;\">\n",
       "      <th></th>\n",
       "      <th>Timestamp</th>\n",
       "      <th>SourceIP</th>\n",
       "      <th>AttackType</th>\n",
       "      <th>TargetIP</th>\n",
       "      <th>AttackDurationHours</th>\n",
       "    </tr>\n",
       "  </thead>\n",
       "  <tbody>\n",
       "    <tr>\n",
       "      <th>6</th>\n",
       "      <td>2023-01-01 16:00:00</td>\n",
       "      <td>234.1.157.231</td>\n",
       "      <td>DDoS</td>\n",
       "      <td>197.122.130.239</td>\n",
       "      <td>5.0</td>\n",
       "    </tr>\n",
       "    <tr>\n",
       "      <th>10</th>\n",
       "      <td>2023-01-02 18:00:00</td>\n",
       "      <td>62.72.67.250</td>\n",
       "      <td>NaN</td>\n",
       "      <td>37.87.161.60</td>\n",
       "      <td>15.0</td>\n",
       "    </tr>\n",
       "    <tr>\n",
       "      <th>12</th>\n",
       "      <td>2023-01-03 22:00:00</td>\n",
       "      <td>2.99.63.225</td>\n",
       "      <td>DDoS</td>\n",
       "      <td>187.93.21.208</td>\n",
       "      <td>5.0</td>\n",
       "    </tr>\n",
       "    <tr>\n",
       "      <th>14</th>\n",
       "      <td>2023-01-01 10:00:00</td>\n",
       "      <td>208.176.254.165</td>\n",
       "      <td>SQL Injection</td>\n",
       "      <td>1.102.134.40</td>\n",
       "      <td>15.0</td>\n",
       "    </tr>\n",
       "    <tr>\n",
       "      <th>16</th>\n",
       "      <td>2023-01-01 10:00:00</td>\n",
       "      <td>139.43.122.89</td>\n",
       "      <td>NaN</td>\n",
       "      <td>221.148.46.200</td>\n",
       "      <td>15.0</td>\n",
       "    </tr>\n",
       "    <tr>\n",
       "      <th>...</th>\n",
       "      <td>...</td>\n",
       "      <td>...</td>\n",
       "      <td>...</td>\n",
       "      <td>...</td>\n",
       "      <td>...</td>\n",
       "    </tr>\n",
       "    <tr>\n",
       "      <th>468</th>\n",
       "      <td>2023-01-03 03:00:00</td>\n",
       "      <td>45.191.5.4</td>\n",
       "      <td>SQL Injection</td>\n",
       "      <td>18.182.67.3</td>\n",
       "      <td>15.0</td>\n",
       "    </tr>\n",
       "    <tr>\n",
       "      <th>473</th>\n",
       "      <td>2023-01-02 08:00:00</td>\n",
       "      <td>83.34.3.244</td>\n",
       "      <td>DDoS</td>\n",
       "      <td>193.64.151.138</td>\n",
       "      <td>5.0</td>\n",
       "    </tr>\n",
       "    <tr>\n",
       "      <th>481</th>\n",
       "      <td>2023-01-04 17:00:00</td>\n",
       "      <td>14.77.30.106</td>\n",
       "      <td>Phishing</td>\n",
       "      <td>62.233.138.29</td>\n",
       "      <td>15.0</td>\n",
       "    </tr>\n",
       "    <tr>\n",
       "      <th>488</th>\n",
       "      <td>2023-01-01 13:00:00</td>\n",
       "      <td>75.139.95.219</td>\n",
       "      <td>SQL Injection</td>\n",
       "      <td>62.84.29.6</td>\n",
       "      <td>15.0</td>\n",
       "    </tr>\n",
       "    <tr>\n",
       "      <th>498</th>\n",
       "      <td>2023-01-02 00:00:00</td>\n",
       "      <td>29.134.244.83</td>\n",
       "      <td>DDoS</td>\n",
       "      <td>169.192.143.229</td>\n",
       "      <td>5.0</td>\n",
       "    </tr>\n",
       "  </tbody>\n",
       "</table>\n",
       "<p>145 rows × 5 columns</p>\n",
       "</div>"
      ],
      "text/plain": [
       "               Timestamp         SourceIP     AttackType         TargetIP  \\\n",
       "6    2023-01-01 16:00:00    234.1.157.231           DDoS  197.122.130.239   \n",
       "10   2023-01-02 18:00:00     62.72.67.250            NaN     37.87.161.60   \n",
       "12   2023-01-03 22:00:00      2.99.63.225           DDoS    187.93.21.208   \n",
       "14   2023-01-01 10:00:00  208.176.254.165  SQL Injection     1.102.134.40   \n",
       "16   2023-01-01 10:00:00    139.43.122.89            NaN   221.148.46.200   \n",
       "..                   ...              ...            ...              ...   \n",
       "468  2023-01-03 03:00:00       45.191.5.4  SQL Injection      18.182.67.3   \n",
       "473  2023-01-02 08:00:00      83.34.3.244           DDoS   193.64.151.138   \n",
       "481  2023-01-04 17:00:00     14.77.30.106       Phishing    62.233.138.29   \n",
       "488  2023-01-01 13:00:00    75.139.95.219  SQL Injection       62.84.29.6   \n",
       "498  2023-01-02 00:00:00    29.134.244.83           DDoS  169.192.143.229   \n",
       "\n",
       "     AttackDurationHours  \n",
       "6                    5.0  \n",
       "10                  15.0  \n",
       "12                   5.0  \n",
       "14                  15.0  \n",
       "16                  15.0  \n",
       "..                   ...  \n",
       "468                 15.0  \n",
       "473                  5.0  \n",
       "481                 15.0  \n",
       "488                 15.0  \n",
       "498                  5.0  \n",
       "\n",
       "[145 rows x 5 columns]"
      ]
     },
     "execution_count": 39,
     "metadata": {},
     "output_type": "execute_result"
    }
   ],
   "source": [
    "# Print the best model details\n",
    "print(f'\\nBest Model: {best_model_name} with Accuracy: {best_accuracy:.2f}')\n",
    "# Optionally, display the best temp_data\n",
    "best_temp_data.loc[null_val]"
   ]
  },
  {
   "cell_type": "markdown",
   "metadata": {},
   "source": [
    "# Handling missing values for categorical features"
   ]
  },
  {
   "cell_type": "code",
   "execution_count": 40,
   "metadata": {},
   "outputs": [
    {
     "data": {
      "text/plain": [
       "[4, 10, 15, 16, 22, 35, 40, 41, 42, 43]"
      ]
     },
     "execution_count": 40,
     "metadata": {},
     "output_type": "execute_result"
    }
   ],
   "source": [
    "missing = df[categorical_cols].isnull()\n",
    "null_idx = [i for i,_ in missing.stack()[missing.stack()].index.tolist()]\n",
    "null_idx[:10]"
   ]
  },
  {
   "cell_type": "code",
   "execution_count": 41,
   "metadata": {},
   "outputs": [
    {
     "data": {
      "text/html": [
       "<div>\n",
       "<style scoped>\n",
       "    .dataframe tbody tr th:only-of-type {\n",
       "        vertical-align: middle;\n",
       "    }\n",
       "\n",
       "    .dataframe tbody tr th {\n",
       "        vertical-align: top;\n",
       "    }\n",
       "\n",
       "    .dataframe thead th {\n",
       "        text-align: right;\n",
       "    }\n",
       "</style>\n",
       "<table border=\"1\" class=\"dataframe\">\n",
       "  <thead>\n",
       "    <tr style=\"text-align: right;\">\n",
       "      <th></th>\n",
       "      <th>Timestamp</th>\n",
       "      <th>SourceIP</th>\n",
       "      <th>AttackType</th>\n",
       "      <th>TargetIP</th>\n",
       "    </tr>\n",
       "  </thead>\n",
       "  <tbody>\n",
       "    <tr>\n",
       "      <th>4</th>\n",
       "      <td>2023-01-03 09:00:00</td>\n",
       "      <td>205.3.29.75</td>\n",
       "      <td>NaN</td>\n",
       "      <td>164.147.161.113</td>\n",
       "    </tr>\n",
       "    <tr>\n",
       "      <th>10</th>\n",
       "      <td>2023-01-02 18:00:00</td>\n",
       "      <td>62.72.67.250</td>\n",
       "      <td>NaN</td>\n",
       "      <td>37.87.161.60</td>\n",
       "    </tr>\n",
       "    <tr>\n",
       "      <th>15</th>\n",
       "      <td>2023-01-03 13:00:00</td>\n",
       "      <td>140.51.136.226</td>\n",
       "      <td>NaN</td>\n",
       "      <td>163.206.71.54</td>\n",
       "    </tr>\n",
       "    <tr>\n",
       "      <th>16</th>\n",
       "      <td>2023-01-01 10:00:00</td>\n",
       "      <td>139.43.122.89</td>\n",
       "      <td>NaN</td>\n",
       "      <td>221.148.46.200</td>\n",
       "    </tr>\n",
       "    <tr>\n",
       "      <th>22</th>\n",
       "      <td>2023-01-04 00:00:00</td>\n",
       "      <td>248.105.200.33</td>\n",
       "      <td>NaN</td>\n",
       "      <td>194.42.106.184</td>\n",
       "    </tr>\n",
       "  </tbody>\n",
       "</table>\n",
       "</div>"
      ],
      "text/plain": [
       "              Timestamp        SourceIP AttackType         TargetIP\n",
       "4   2023-01-03 09:00:00     205.3.29.75        NaN  164.147.161.113\n",
       "10  2023-01-02 18:00:00    62.72.67.250        NaN     37.87.161.60\n",
       "15  2023-01-03 13:00:00  140.51.136.226        NaN    163.206.71.54\n",
       "16  2023-01-01 10:00:00   139.43.122.89        NaN   221.148.46.200\n",
       "22  2023-01-04 00:00:00  248.105.200.33        NaN   194.42.106.184"
      ]
     },
     "execution_count": 41,
     "metadata": {},
     "output_type": "execute_result"
    }
   ],
   "source": [
    "df[categorical_cols].loc[null_idx].head()"
   ]
  },
  {
   "cell_type": "markdown",
   "metadata": {},
   "source": [
    "## Replace missing values with a constant"
   ]
  },
  {
   "cell_type": "code",
   "execution_count": 42,
   "metadata": {},
   "outputs": [],
   "source": [
    "constant_df = df.copy()\n",
    "constant_df[categorical_cols] = constant_df[categorical_cols].fillna('Unknown')"
   ]
  },
  {
   "cell_type": "code",
   "execution_count": 43,
   "metadata": {},
   "outputs": [
    {
     "data": {
      "text/html": [
       "<div>\n",
       "<style scoped>\n",
       "    .dataframe tbody tr th:only-of-type {\n",
       "        vertical-align: middle;\n",
       "    }\n",
       "\n",
       "    .dataframe tbody tr th {\n",
       "        vertical-align: top;\n",
       "    }\n",
       "\n",
       "    .dataframe thead th {\n",
       "        text-align: right;\n",
       "    }\n",
       "</style>\n",
       "<table border=\"1\" class=\"dataframe\">\n",
       "  <thead>\n",
       "    <tr style=\"text-align: right;\">\n",
       "      <th></th>\n",
       "      <th>Timestamp</th>\n",
       "      <th>SourceIP</th>\n",
       "      <th>AttackType</th>\n",
       "      <th>TargetIP</th>\n",
       "    </tr>\n",
       "  </thead>\n",
       "  <tbody>\n",
       "    <tr>\n",
       "      <th>4</th>\n",
       "      <td>2023-01-03 09:00:00</td>\n",
       "      <td>205.3.29.75</td>\n",
       "      <td>Unknown</td>\n",
       "      <td>164.147.161.113</td>\n",
       "    </tr>\n",
       "    <tr>\n",
       "      <th>10</th>\n",
       "      <td>2023-01-02 18:00:00</td>\n",
       "      <td>62.72.67.250</td>\n",
       "      <td>Unknown</td>\n",
       "      <td>37.87.161.60</td>\n",
       "    </tr>\n",
       "    <tr>\n",
       "      <th>15</th>\n",
       "      <td>2023-01-03 13:00:00</td>\n",
       "      <td>140.51.136.226</td>\n",
       "      <td>Unknown</td>\n",
       "      <td>163.206.71.54</td>\n",
       "    </tr>\n",
       "    <tr>\n",
       "      <th>16</th>\n",
       "      <td>2023-01-01 10:00:00</td>\n",
       "      <td>139.43.122.89</td>\n",
       "      <td>Unknown</td>\n",
       "      <td>221.148.46.200</td>\n",
       "    </tr>\n",
       "    <tr>\n",
       "      <th>22</th>\n",
       "      <td>2023-01-04 00:00:00</td>\n",
       "      <td>248.105.200.33</td>\n",
       "      <td>Unknown</td>\n",
       "      <td>194.42.106.184</td>\n",
       "    </tr>\n",
       "  </tbody>\n",
       "</table>\n",
       "</div>"
      ],
      "text/plain": [
       "              Timestamp        SourceIP AttackType         TargetIP\n",
       "4   2023-01-03 09:00:00     205.3.29.75    Unknown  164.147.161.113\n",
       "10  2023-01-02 18:00:00    62.72.67.250    Unknown     37.87.161.60\n",
       "15  2023-01-03 13:00:00  140.51.136.226    Unknown    163.206.71.54\n",
       "16  2023-01-01 10:00:00   139.43.122.89    Unknown   221.148.46.200\n",
       "22  2023-01-04 00:00:00  248.105.200.33    Unknown   194.42.106.184"
      ]
     },
     "execution_count": 43,
     "metadata": {},
     "output_type": "execute_result"
    }
   ],
   "source": [
    "constant_df[categorical_cols].loc[null_idx].head()"
   ]
  },
  {
   "cell_type": "markdown",
   "metadata": {},
   "source": [
    "## Forward fill and backward fill for categorical data"
   ]
  },
  {
   "cell_type": "markdown",
   "metadata": {},
   "source": [
    "### Forward fill method\n"
   ]
  },
  {
   "cell_type": "code",
   "execution_count": 44,
   "metadata": {},
   "outputs": [],
   "source": [
    "ffill_df = df.copy()\n",
    "ffill_df[categorical_cols] = ffill_df[categorical_cols].ffill()"
   ]
  },
  {
   "cell_type": "code",
   "execution_count": 45,
   "metadata": {},
   "outputs": [
    {
     "data": {
      "text/html": [
       "<div>\n",
       "<style scoped>\n",
       "    .dataframe tbody tr th:only-of-type {\n",
       "        vertical-align: middle;\n",
       "    }\n",
       "\n",
       "    .dataframe tbody tr th {\n",
       "        vertical-align: top;\n",
       "    }\n",
       "\n",
       "    .dataframe thead th {\n",
       "        text-align: right;\n",
       "    }\n",
       "</style>\n",
       "<table border=\"1\" class=\"dataframe\">\n",
       "  <thead>\n",
       "    <tr style=\"text-align: right;\">\n",
       "      <th></th>\n",
       "      <th>Timestamp</th>\n",
       "      <th>SourceIP</th>\n",
       "      <th>AttackType</th>\n",
       "      <th>TargetIP</th>\n",
       "    </tr>\n",
       "  </thead>\n",
       "  <tbody>\n",
       "    <tr>\n",
       "      <th>4</th>\n",
       "      <td>2023-01-03 09:00:00</td>\n",
       "      <td>205.3.29.75</td>\n",
       "      <td>Phishing</td>\n",
       "      <td>164.147.161.113</td>\n",
       "    </tr>\n",
       "    <tr>\n",
       "      <th>10</th>\n",
       "      <td>2023-01-02 18:00:00</td>\n",
       "      <td>62.72.67.250</td>\n",
       "      <td>SQL Injection</td>\n",
       "      <td>37.87.161.60</td>\n",
       "    </tr>\n",
       "    <tr>\n",
       "      <th>15</th>\n",
       "      <td>2023-01-03 13:00:00</td>\n",
       "      <td>140.51.136.226</td>\n",
       "      <td>SQL Injection</td>\n",
       "      <td>163.206.71.54</td>\n",
       "    </tr>\n",
       "    <tr>\n",
       "      <th>16</th>\n",
       "      <td>2023-01-01 10:00:00</td>\n",
       "      <td>139.43.122.89</td>\n",
       "      <td>SQL Injection</td>\n",
       "      <td>221.148.46.200</td>\n",
       "    </tr>\n",
       "    <tr>\n",
       "      <th>22</th>\n",
       "      <td>2023-01-04 00:00:00</td>\n",
       "      <td>248.105.200.33</td>\n",
       "      <td>DDoS</td>\n",
       "      <td>194.42.106.184</td>\n",
       "    </tr>\n",
       "  </tbody>\n",
       "</table>\n",
       "</div>"
      ],
      "text/plain": [
       "              Timestamp        SourceIP     AttackType         TargetIP\n",
       "4   2023-01-03 09:00:00     205.3.29.75       Phishing  164.147.161.113\n",
       "10  2023-01-02 18:00:00    62.72.67.250  SQL Injection     37.87.161.60\n",
       "15  2023-01-03 13:00:00  140.51.136.226  SQL Injection    163.206.71.54\n",
       "16  2023-01-01 10:00:00   139.43.122.89  SQL Injection   221.148.46.200\n",
       "22  2023-01-04 00:00:00  248.105.200.33           DDoS   194.42.106.184"
      ]
     },
     "execution_count": 45,
     "metadata": {},
     "output_type": "execute_result"
    }
   ],
   "source": [
    "ffill_df[categorical_cols].loc[null_idx].head()"
   ]
  },
  {
   "cell_type": "markdown",
   "metadata": {},
   "source": [
    "### Backward fill method"
   ]
  },
  {
   "cell_type": "code",
   "execution_count": 46,
   "metadata": {},
   "outputs": [],
   "source": [
    "bfill_df = df.copy()\n",
    "bfill_df[categorical_cols] = bfill_df[categorical_cols].bfill()"
   ]
  },
  {
   "cell_type": "code",
   "execution_count": 47,
   "metadata": {},
   "outputs": [
    {
     "data": {
      "text/html": [
       "<div>\n",
       "<style scoped>\n",
       "    .dataframe tbody tr th:only-of-type {\n",
       "        vertical-align: middle;\n",
       "    }\n",
       "\n",
       "    .dataframe tbody tr th {\n",
       "        vertical-align: top;\n",
       "    }\n",
       "\n",
       "    .dataframe thead th {\n",
       "        text-align: right;\n",
       "    }\n",
       "</style>\n",
       "<table border=\"1\" class=\"dataframe\">\n",
       "  <thead>\n",
       "    <tr style=\"text-align: right;\">\n",
       "      <th></th>\n",
       "      <th>Timestamp</th>\n",
       "      <th>SourceIP</th>\n",
       "      <th>AttackType</th>\n",
       "      <th>TargetIP</th>\n",
       "    </tr>\n",
       "  </thead>\n",
       "  <tbody>\n",
       "    <tr>\n",
       "      <th>4</th>\n",
       "      <td>2023-01-03 09:00:00</td>\n",
       "      <td>205.3.29.75</td>\n",
       "      <td>Brute Force</td>\n",
       "      <td>164.147.161.113</td>\n",
       "    </tr>\n",
       "    <tr>\n",
       "      <th>10</th>\n",
       "      <td>2023-01-02 18:00:00</td>\n",
       "      <td>62.72.67.250</td>\n",
       "      <td>SQL Injection</td>\n",
       "      <td>37.87.161.60</td>\n",
       "    </tr>\n",
       "    <tr>\n",
       "      <th>15</th>\n",
       "      <td>2023-01-03 13:00:00</td>\n",
       "      <td>140.51.136.226</td>\n",
       "      <td>Phishing</td>\n",
       "      <td>163.206.71.54</td>\n",
       "    </tr>\n",
       "    <tr>\n",
       "      <th>16</th>\n",
       "      <td>2023-01-01 10:00:00</td>\n",
       "      <td>139.43.122.89</td>\n",
       "      <td>Phishing</td>\n",
       "      <td>221.148.46.200</td>\n",
       "    </tr>\n",
       "    <tr>\n",
       "      <th>22</th>\n",
       "      <td>2023-01-04 00:00:00</td>\n",
       "      <td>248.105.200.33</td>\n",
       "      <td>SQL Injection</td>\n",
       "      <td>194.42.106.184</td>\n",
       "    </tr>\n",
       "  </tbody>\n",
       "</table>\n",
       "</div>"
      ],
      "text/plain": [
       "              Timestamp        SourceIP     AttackType         TargetIP\n",
       "4   2023-01-03 09:00:00     205.3.29.75    Brute Force  164.147.161.113\n",
       "10  2023-01-02 18:00:00    62.72.67.250  SQL Injection     37.87.161.60\n",
       "15  2023-01-03 13:00:00  140.51.136.226       Phishing    163.206.71.54\n",
       "16  2023-01-01 10:00:00   139.43.122.89       Phishing   221.148.46.200\n",
       "22  2023-01-04 00:00:00  248.105.200.33  SQL Injection   194.42.106.184"
      ]
     },
     "execution_count": 47,
     "metadata": {},
     "output_type": "execute_result"
    }
   ],
   "source": [
    "bfill_df[categorical_cols].loc[null_idx].head()"
   ]
  },
  {
   "cell_type": "markdown",
   "metadata": {},
   "source": [
    "## Replace missing values with the mode (most frequent value)"
   ]
  },
  {
   "cell_type": "code",
   "execution_count": 48,
   "metadata": {},
   "outputs": [],
   "source": [
    "mode_df = df.copy()\n",
    "mode_imputer = SimpleImputer(strategy='most_frequent')\n",
    "mode_df[categorical_cols] = mode_imputer.fit_transform(mode_df[categorical_cols])"
   ]
  },
  {
   "cell_type": "code",
   "execution_count": 49,
   "metadata": {},
   "outputs": [
    {
     "data": {
      "text/html": [
       "<div>\n",
       "<style scoped>\n",
       "    .dataframe tbody tr th:only-of-type {\n",
       "        vertical-align: middle;\n",
       "    }\n",
       "\n",
       "    .dataframe tbody tr th {\n",
       "        vertical-align: top;\n",
       "    }\n",
       "\n",
       "    .dataframe thead th {\n",
       "        text-align: right;\n",
       "    }\n",
       "</style>\n",
       "<table border=\"1\" class=\"dataframe\">\n",
       "  <thead>\n",
       "    <tr style=\"text-align: right;\">\n",
       "      <th></th>\n",
       "      <th>Timestamp</th>\n",
       "      <th>SourceIP</th>\n",
       "      <th>AttackType</th>\n",
       "      <th>TargetIP</th>\n",
       "    </tr>\n",
       "  </thead>\n",
       "  <tbody>\n",
       "    <tr>\n",
       "      <th>4</th>\n",
       "      <td>2023-01-03 09:00:00</td>\n",
       "      <td>205.3.29.75</td>\n",
       "      <td>Brute Force</td>\n",
       "      <td>164.147.161.113</td>\n",
       "    </tr>\n",
       "    <tr>\n",
       "      <th>10</th>\n",
       "      <td>2023-01-02 18:00:00</td>\n",
       "      <td>62.72.67.250</td>\n",
       "      <td>Brute Force</td>\n",
       "      <td>37.87.161.60</td>\n",
       "    </tr>\n",
       "    <tr>\n",
       "      <th>15</th>\n",
       "      <td>2023-01-03 13:00:00</td>\n",
       "      <td>140.51.136.226</td>\n",
       "      <td>Brute Force</td>\n",
       "      <td>163.206.71.54</td>\n",
       "    </tr>\n",
       "    <tr>\n",
       "      <th>16</th>\n",
       "      <td>2023-01-01 10:00:00</td>\n",
       "      <td>139.43.122.89</td>\n",
       "      <td>Brute Force</td>\n",
       "      <td>221.148.46.200</td>\n",
       "    </tr>\n",
       "    <tr>\n",
       "      <th>22</th>\n",
       "      <td>2023-01-04 00:00:00</td>\n",
       "      <td>248.105.200.33</td>\n",
       "      <td>Brute Force</td>\n",
       "      <td>194.42.106.184</td>\n",
       "    </tr>\n",
       "  </tbody>\n",
       "</table>\n",
       "</div>"
      ],
      "text/plain": [
       "              Timestamp        SourceIP   AttackType         TargetIP\n",
       "4   2023-01-03 09:00:00     205.3.29.75  Brute Force  164.147.161.113\n",
       "10  2023-01-02 18:00:00    62.72.67.250  Brute Force     37.87.161.60\n",
       "15  2023-01-03 13:00:00  140.51.136.226  Brute Force    163.206.71.54\n",
       "16  2023-01-01 10:00:00   139.43.122.89  Brute Force   221.148.46.200\n",
       "22  2023-01-04 00:00:00  248.105.200.33  Brute Force   194.42.106.184"
      ]
     },
     "execution_count": 49,
     "metadata": {},
     "output_type": "execute_result"
    }
   ],
   "source": [
    "mode_df[categorical_cols].loc[null_idx].head()"
   ]
  },
  {
   "cell_type": "markdown",
   "metadata": {},
   "source": [
    "## Replace missing values with random sampling"
   ]
  },
  {
   "cell_type": "code",
   "execution_count": 50,
   "metadata": {},
   "outputs": [],
   "source": [
    "random_df = df.copy()\n",
    "for column in categorical_cols:\n",
    "    non_null_values = random_df[column].dropna()\n",
    "    random_df[column] = random_df[column].apply(lambda x: np.random.choice(non_null_values) if pd.isnull(x) else x)\n"
   ]
  },
  {
   "cell_type": "code",
   "execution_count": 51,
   "metadata": {},
   "outputs": [
    {
     "data": {
      "text/html": [
       "<div>\n",
       "<style scoped>\n",
       "    .dataframe tbody tr th:only-of-type {\n",
       "        vertical-align: middle;\n",
       "    }\n",
       "\n",
       "    .dataframe tbody tr th {\n",
       "        vertical-align: top;\n",
       "    }\n",
       "\n",
       "    .dataframe thead th {\n",
       "        text-align: right;\n",
       "    }\n",
       "</style>\n",
       "<table border=\"1\" class=\"dataframe\">\n",
       "  <thead>\n",
       "    <tr style=\"text-align: right;\">\n",
       "      <th></th>\n",
       "      <th>Timestamp</th>\n",
       "      <th>SourceIP</th>\n",
       "      <th>AttackType</th>\n",
       "      <th>TargetIP</th>\n",
       "    </tr>\n",
       "  </thead>\n",
       "  <tbody>\n",
       "    <tr>\n",
       "      <th>4</th>\n",
       "      <td>2023-01-03 09:00:00</td>\n",
       "      <td>205.3.29.75</td>\n",
       "      <td>Brute Force</td>\n",
       "      <td>164.147.161.113</td>\n",
       "    </tr>\n",
       "    <tr>\n",
       "      <th>10</th>\n",
       "      <td>2023-01-02 18:00:00</td>\n",
       "      <td>62.72.67.250</td>\n",
       "      <td>Brute Force</td>\n",
       "      <td>37.87.161.60</td>\n",
       "    </tr>\n",
       "    <tr>\n",
       "      <th>15</th>\n",
       "      <td>2023-01-03 13:00:00</td>\n",
       "      <td>140.51.136.226</td>\n",
       "      <td>DDoS</td>\n",
       "      <td>163.206.71.54</td>\n",
       "    </tr>\n",
       "    <tr>\n",
       "      <th>16</th>\n",
       "      <td>2023-01-01 10:00:00</td>\n",
       "      <td>139.43.122.89</td>\n",
       "      <td>DDoS</td>\n",
       "      <td>221.148.46.200</td>\n",
       "    </tr>\n",
       "    <tr>\n",
       "      <th>22</th>\n",
       "      <td>2023-01-04 00:00:00</td>\n",
       "      <td>248.105.200.33</td>\n",
       "      <td>Brute Force</td>\n",
       "      <td>194.42.106.184</td>\n",
       "    </tr>\n",
       "  </tbody>\n",
       "</table>\n",
       "</div>"
      ],
      "text/plain": [
       "              Timestamp        SourceIP   AttackType         TargetIP\n",
       "4   2023-01-03 09:00:00     205.3.29.75  Brute Force  164.147.161.113\n",
       "10  2023-01-02 18:00:00    62.72.67.250  Brute Force     37.87.161.60\n",
       "15  2023-01-03 13:00:00  140.51.136.226         DDoS    163.206.71.54\n",
       "16  2023-01-01 10:00:00   139.43.122.89         DDoS   221.148.46.200\n",
       "22  2023-01-04 00:00:00  248.105.200.33  Brute Force   194.42.106.184"
      ]
     },
     "execution_count": 51,
     "metadata": {},
     "output_type": "execute_result"
    }
   ],
   "source": [
    "random_df[categorical_cols].loc[null_idx].head()"
   ]
  },
  {
   "cell_type": "markdown",
   "metadata": {},
   "source": [
    "## Replace missing values using a regression model"
   ]
  },
  {
   "cell_type": "code",
   "execution_count": 52,
   "metadata": {},
   "outputs": [
    {
     "name": "stdout",
     "output_type": "stream",
     "text": [
      "Predicted AttackType for model LogisticRegression:\n",
      "              Timestamp        SourceIP   AttackType         TargetIP  \\\n",
      "4   2023-01-03 09:00:00     205.3.29.75  Brute Force  164.147.161.113   \n",
      "10  2023-01-02 18:00:00    62.72.67.250  Brute Force     37.87.161.60   \n",
      "15  2023-01-03 13:00:00  140.51.136.226  Brute Force    163.206.71.54   \n",
      "16  2023-01-01 10:00:00   139.43.122.89  Brute Force   221.148.46.200   \n",
      "22  2023-01-04 00:00:00  248.105.200.33         DDoS   194.42.106.184   \n",
      "\n",
      "    AttackDurationHours  \n",
      "4                   2.0  \n",
      "10                  NaN  \n",
      "15                  2.0  \n",
      "16                  NaN  \n",
      "22                 15.0  \n",
      "Accuracy of LogisticRegression: 0.32\n",
      "Predicted AttackType for model RandomForestClassifier:\n",
      "              Timestamp        SourceIP   AttackType         TargetIP  \\\n",
      "4   2023-01-03 09:00:00     205.3.29.75         DDoS  164.147.161.113   \n",
      "10  2023-01-02 18:00:00    62.72.67.250  Brute Force     37.87.161.60   \n",
      "15  2023-01-03 13:00:00  140.51.136.226         DDoS    163.206.71.54   \n",
      "16  2023-01-01 10:00:00   139.43.122.89  Brute Force   221.148.46.200   \n",
      "22  2023-01-04 00:00:00  248.105.200.33         DDoS   194.42.106.184   \n",
      "\n",
      "    AttackDurationHours  \n",
      "4                   2.0  \n",
      "10                  NaN  \n",
      "15                  2.0  \n",
      "16                  NaN  \n",
      "22                 15.0  \n",
      "Accuracy of RandomForestClassifier: 0.26\n",
      "Predicted AttackType for model DecisionTreeClassifier:\n",
      "              Timestamp        SourceIP   AttackType         TargetIP  \\\n",
      "4   2023-01-03 09:00:00     205.3.29.75         DDoS  164.147.161.113   \n",
      "10  2023-01-02 18:00:00    62.72.67.250  Brute Force     37.87.161.60   \n",
      "15  2023-01-03 13:00:00  140.51.136.226         DDoS    163.206.71.54   \n",
      "16  2023-01-01 10:00:00   139.43.122.89  Brute Force   221.148.46.200   \n",
      "22  2023-01-04 00:00:00  248.105.200.33         DDoS   194.42.106.184   \n",
      "\n",
      "    AttackDurationHours  \n",
      "4                   2.0  \n",
      "10                  NaN  \n",
      "15                  2.0  \n",
      "16                  NaN  \n",
      "22                 15.0  \n",
      "Accuracy of DecisionTreeClassifier: 0.26\n",
      "Predicted AttackType for model AdaBoostClassifier:\n",
      "              Timestamp        SourceIP   AttackType         TargetIP  \\\n",
      "4   2023-01-03 09:00:00     205.3.29.75         DDoS  164.147.161.113   \n",
      "10  2023-01-02 18:00:00    62.72.67.250  Brute Force     37.87.161.60   \n",
      "15  2023-01-03 13:00:00  140.51.136.226         DDoS    163.206.71.54   \n",
      "16  2023-01-01 10:00:00   139.43.122.89  Brute Force   221.148.46.200   \n",
      "22  2023-01-04 00:00:00  248.105.200.33         DDoS   194.42.106.184   \n",
      "\n",
      "    AttackDurationHours  \n",
      "4                   2.0  \n",
      "10                  NaN  \n",
      "15                  2.0  \n",
      "16                  NaN  \n",
      "22                 15.0  \n",
      "Accuracy of AdaBoostClassifier: 0.26\n",
      "Predicted AttackType for model KNeighborsClassifier:\n",
      "              Timestamp        SourceIP   AttackType         TargetIP  \\\n",
      "4   2023-01-03 09:00:00     205.3.29.75  Brute Force  164.147.161.113   \n",
      "10  2023-01-02 18:00:00    62.72.67.250         DDoS     37.87.161.60   \n",
      "15  2023-01-03 13:00:00  140.51.136.226  Brute Force    163.206.71.54   \n",
      "16  2023-01-01 10:00:00   139.43.122.89         DDoS   221.148.46.200   \n",
      "22  2023-01-04 00:00:00  248.105.200.33         DDoS   194.42.106.184   \n",
      "\n",
      "    AttackDurationHours  \n",
      "4                   2.0  \n",
      "10                  NaN  \n",
      "15                  2.0  \n",
      "16                  NaN  \n",
      "22                 15.0  \n",
      "Accuracy of KNeighborsClassifier: 0.31\n",
      "Predicted AttackType for model SVC:\n",
      "              Timestamp        SourceIP   AttackType         TargetIP  \\\n",
      "4   2023-01-03 09:00:00     205.3.29.75         DDoS  164.147.161.113   \n",
      "10  2023-01-02 18:00:00    62.72.67.250  Brute Force     37.87.161.60   \n",
      "15  2023-01-03 13:00:00  140.51.136.226         DDoS    163.206.71.54   \n",
      "16  2023-01-01 10:00:00   139.43.122.89  Brute Force   221.148.46.200   \n",
      "22  2023-01-04 00:00:00  248.105.200.33         DDoS   194.42.106.184   \n",
      "\n",
      "    AttackDurationHours  \n",
      "4                   2.0  \n",
      "10                  NaN  \n",
      "15                  2.0  \n",
      "16                  NaN  \n",
      "22                 15.0  \n",
      "Accuracy of SVC: 0.26\n"
     ]
    }
   ],
   "source": [
    "data = df.copy()\n",
    "# Create a copy of the original data\n",
    "original_data = data.copy()\n",
    "\n",
    "# Identify null values in 'AttackType'\n",
    "null_val = list(data[data['AttackType'].isnull()].index)\n",
    "not_null = [i for i in range(data.shape[0]) if i not in null_val]\n",
    "\n",
    "le_attack = LabelEncoder()\n",
    "\n",
    "data['AttackType'] = le_attack.fit_transform(data['AttackType'].astype(str))\n",
    "\n",
    "# Drop rows with missing AttackType\n",
    "train_data = data.loc[not_null]\n",
    "\n",
    "# Features and target\n",
    "X = train_data[['AttackDurationHours']]\n",
    "y = train_data['AttackType']\n",
    "\n",
    "# Impute missing values in X using SimpleImputer\n",
    "imputer = SimpleImputer(strategy='mean')\n",
    "X = imputer.fit_transform(X)\n",
    "\n",
    "# Split the data after imputation\n",
    "X_train, X_test, y_train, y_test = train_test_split(X, y, test_size=0.2, random_state=42)\n",
    "\n",
    "# Initialize models\n",
    "models = {\n",
    "    'LogisticRegression': LogisticRegression(),\n",
    "    'RandomForestClassifier': RandomForestClassifier(),\n",
    "    'DecisionTreeClassifier': DecisionTreeClassifier(),\n",
    "    'AdaBoostClassifier': AdaBoostClassifier(),\n",
    "    'KNeighborsClassifier': KNeighborsClassifier(),\n",
    "    'SVC': SVC()\n",
    "}\n",
    "\n",
    "# Dictionary to store predictions for each model\n",
    "predictions = {}\n",
    "Listeacc=[]\n",
    "Listmod=[]\n",
    "best_accuracy = 0\n",
    "best_model_name = None\n",
    "best_temp_data = None\n",
    "# Train the model and predict missing AttackType values\n",
    "for model_name, model in models.items():\n",
    "    model.fit(X_train, y_train)\n",
    "\n",
    "    # Prepare the features for prediction\n",
    "    missing_data = data.loc[null_val]\n",
    "    X_missing = missing_data[['AttackDurationHours']]\n",
    "\n",
    "    # Impute missing values in X_missing using the same imputer fitted earlier\n",
    "    X_missing = imputer.transform(X_missing)\n",
    "\n",
    "    # Predict the missing AttackType values\n",
    "    predicted_attack_types = model.predict(X_missing)\n",
    "\n",
    "    # Map the predicted values back to original categories\n",
    "    predicted_attack_types = le_attack.inverse_transform(predicted_attack_types)\n",
    "\n",
    "    # Store predictions in the dictionary\n",
    "    predictions[model_name] = predicted_attack_types\n",
    "\n",
    "    # Fill the missing values in a copy of the original data for this model\n",
    "    temp_data = original_data.copy()\n",
    "    temp_data.loc[null_val, 'AttackType'] = predicted_attack_types\n",
    "\n",
    "    # Print the filled missing values for the current model\n",
    "    print(f'Predicted AttackType for model {model_name}:')\n",
    "    print(temp_data.loc[null_val].head())\n",
    "\n",
    "    # Evaluate the model on the test set\n",
    "    y_pred = model.predict(X_test)\n",
    "    accuracy = accuracy_score(y_test, y_pred)\n",
    "    Listeacc.append(accuracy)\n",
    "    Listmod.append(model_name)\n",
    "    print(f'Accuracy of {model_name}: {accuracy:.2f}')\n",
    "    # Track the best model based on accuracy\n",
    "    if accuracy > best_accuracy:\n",
    "        best_accuracy = accuracy\n",
    "        best_model_name = model_name\n",
    "        best_temp_data = temp_data"
   ]
  },
  {
   "cell_type": "code",
   "execution_count": 55,
   "metadata": {},
   "outputs": [
    {
     "data": {
      "image/png": "[encoded data removed]",
      "text/plain": [
       "<Figure size 1000x600 with 1 Axes>"
      ]
     },
     "metadata": {},
     "output_type": "display_data"
    }
   ],
   "source": [
    "# Plotting the accuracy of each model\n",
    "plt.figure(figsize=(10, 6))\n",
    "plt.barh(Listmod, Listeacc)\n",
    "plt.xlabel('Accuracy')\n",
    "plt.title('Model Accuracy Comparison')\n",
    "plt.xlim(0, 1)  # Setting the x-axis limits from 0 to 1\n",
    "plt.grid(axis='x', linestyle='--')\n",
    "plt.show()"
   ]
  },
  {
   "cell_type": "code",
   "execution_count": 54,
   "metadata": {},
   "outputs": [
    {
     "name": "stdout",
     "output_type": "stream",
     "text": [
      "\n",
      "Best Model: LogisticRegression with Accuracy: 0.32\n"
     ]
    },
    {
     "data": {
      "text/html": [
       "<div>\n",
       "<style scoped>\n",
       "    .dataframe tbody tr th:only-of-type {\n",
       "        vertical-align: middle;\n",
       "    }\n",
       "\n",
       "    .dataframe tbody tr th {\n",
       "        vertical-align: top;\n",
       "    }\n",
       "\n",
       "    .dataframe thead th {\n",
       "        text-align: right;\n",
       "    }\n",
       "</style>\n",
       "<table border=\"1\" class=\"dataframe\">\n",
       "  <thead>\n",
       "    <tr style=\"text-align: right;\">\n",
       "      <th></th>\n",
       "      <th>Timestamp</th>\n",
       "      <th>SourceIP</th>\n",
       "      <th>AttackType</th>\n",
       "      <th>TargetIP</th>\n",
       "      <th>AttackDurationHours</th>\n",
       "    </tr>\n",
       "  </thead>\n",
       "  <tbody>\n",
       "    <tr>\n",
       "      <th>4</th>\n",
       "      <td>2023-01-03 09:00:00</td>\n",
       "      <td>205.3.29.75</td>\n",
       "      <td>Brute Force</td>\n",
       "      <td>164.147.161.113</td>\n",
       "      <td>2.0</td>\n",
       "    </tr>\n",
       "    <tr>\n",
       "      <th>10</th>\n",
       "      <td>2023-01-02 18:00:00</td>\n",
       "      <td>62.72.67.250</td>\n",
       "      <td>Brute Force</td>\n",
       "      <td>37.87.161.60</td>\n",
       "      <td>NaN</td>\n",
       "    </tr>\n",
       "    <tr>\n",
       "      <th>15</th>\n",
       "      <td>2023-01-03 13:00:00</td>\n",
       "      <td>140.51.136.226</td>\n",
       "      <td>Brute Force</td>\n",
       "      <td>163.206.71.54</td>\n",
       "      <td>2.0</td>\n",
       "    </tr>\n",
       "    <tr>\n",
       "      <th>16</th>\n",
       "      <td>2023-01-01 10:00:00</td>\n",
       "      <td>139.43.122.89</td>\n",
       "      <td>Brute Force</td>\n",
       "      <td>221.148.46.200</td>\n",
       "      <td>NaN</td>\n",
       "    </tr>\n",
       "    <tr>\n",
       "      <th>22</th>\n",
       "      <td>2023-01-04 00:00:00</td>\n",
       "      <td>248.105.200.33</td>\n",
       "      <td>DDoS</td>\n",
       "      <td>194.42.106.184</td>\n",
       "      <td>15.0</td>\n",
       "    </tr>\n",
       "    <tr>\n",
       "      <th>...</th>\n",
       "      <td>...</td>\n",
       "      <td>...</td>\n",
       "      <td>...</td>\n",
       "      <td>...</td>\n",
       "      <td>...</td>\n",
       "    </tr>\n",
       "    <tr>\n",
       "      <th>485</th>\n",
       "      <td>2023-01-03 03:00:00</td>\n",
       "      <td>5.230.126.18</td>\n",
       "      <td>Brute Force</td>\n",
       "      <td>241.61.68.178</td>\n",
       "      <td>2.0</td>\n",
       "    </tr>\n",
       "    <tr>\n",
       "      <th>486</th>\n",
       "      <td>2023-01-04 07:00:00</td>\n",
       "      <td>134.52.135.181</td>\n",
       "      <td>Brute Force</td>\n",
       "      <td>188.29.246.96</td>\n",
       "      <td>5.0</td>\n",
       "    </tr>\n",
       "    <tr>\n",
       "      <th>490</th>\n",
       "      <td>2023-01-03 05:00:00</td>\n",
       "      <td>192.34.97.123</td>\n",
       "      <td>DDoS</td>\n",
       "      <td>69.181.45.42</td>\n",
       "      <td>15.0</td>\n",
       "    </tr>\n",
       "    <tr>\n",
       "      <th>492</th>\n",
       "      <td>2023-01-03 07:00:00</td>\n",
       "      <td>131.210.231.193</td>\n",
       "      <td>Brute Force</td>\n",
       "      <td>35.252.163.1</td>\n",
       "      <td>2.0</td>\n",
       "    </tr>\n",
       "    <tr>\n",
       "      <th>495</th>\n",
       "      <td>2023-01-04 04:00:00</td>\n",
       "      <td>252.211.35.134</td>\n",
       "      <td>Brute Force</td>\n",
       "      <td>190.10.13.143</td>\n",
       "      <td>2.0</td>\n",
       "    </tr>\n",
       "  </tbody>\n",
       "</table>\n",
       "<p>118 rows × 5 columns</p>\n",
       "</div>"
      ],
      "text/plain": [
       "               Timestamp         SourceIP   AttackType         TargetIP  \\\n",
       "4    2023-01-03 09:00:00      205.3.29.75  Brute Force  164.147.161.113   \n",
       "10   2023-01-02 18:00:00     62.72.67.250  Brute Force     37.87.161.60   \n",
       "15   2023-01-03 13:00:00   140.51.136.226  Brute Force    163.206.71.54   \n",
       "16   2023-01-01 10:00:00    139.43.122.89  Brute Force   221.148.46.200   \n",
       "22   2023-01-04 00:00:00   248.105.200.33         DDoS   194.42.106.184   \n",
       "..                   ...              ...          ...              ...   \n",
       "485  2023-01-03 03:00:00     5.230.126.18  Brute Force    241.61.68.178   \n",
       "486  2023-01-04 07:00:00   134.52.135.181  Brute Force    188.29.246.96   \n",
       "490  2023-01-03 05:00:00    192.34.97.123         DDoS     69.181.45.42   \n",
       "492  2023-01-03 07:00:00  131.210.231.193  Brute Force     35.252.163.1   \n",
       "495  2023-01-04 04:00:00   252.211.35.134  Brute Force    190.10.13.143   \n",
       "\n",
       "     AttackDurationHours  \n",
       "4                    2.0  \n",
       "10                   NaN  \n",
       "15                   2.0  \n",
       "16                   NaN  \n",
       "22                  15.0  \n",
       "..                   ...  \n",
       "485                  2.0  \n",
       "486                  5.0  \n",
       "490                 15.0  \n",
       "492                  2.0  \n",
       "495                  2.0  \n",
       "\n",
       "[118 rows x 5 columns]"
      ]
     },
     "execution_count": 54,
     "metadata": {},
     "output_type": "execute_result"
    }
   ],
   "source": [
    "# Print the best model details\n",
    "print(f'\\nBest Model: {best_model_name} with Accuracy: {best_accuracy:.2f}')\n",
    "# Optionally, display the best temp_data\n",
    "best_temp_data.loc[null_val]"
   ]
  }
 ],
 "metadata": {
  "kernelspec": {
   "display_name": ".venv",
   "language": "python",
   "name": "python3"
  },
  "language_info": {
   "codemirror_mode": {
    "name": "ipython",
    "version": 3
   },
   "file_extension": ".py",
   "mimetype": "text/x-python",
   "name": "python",
   "nbconvert_exporter": "python",
   "pygments_lexer": "ipython3",
   "version": "3.12.0"
  }
 },
 "nbformat": 4,
 "nbformat_minor": 2
}

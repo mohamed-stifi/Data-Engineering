{
 "cells": [
  {
   "cell_type": "markdown",
   "metadata": {},
   "source": [
    "## Import Necessary Libraries"
   ]
  },
  {
   "cell_type": "code",
   "execution_count": 1,
   "metadata": {},
   "outputs": [
    {
     "ename": "ModuleNotFoundError",
     "evalue": "No module named 'seaborn'",
     "output_type": "error",
     "traceback": [
      "\u001b[1;31m---------------------------------------------------------------------------\u001b[0m",
      "\u001b[1;31mModuleNotFoundError\u001b[0m                       Traceback (most recent call last)",
      "Cell \u001b[1;32mIn[1], line 1\u001b[0m\n\u001b[1;32m----> 1\u001b[0m \u001b[38;5;28;01mfrom\u001b[39;00m \u001b[38;5;21;01mdataEngineering\u001b[39;00m \u001b[38;5;28;01mimport\u001b[39;00m tp1_utils\n\u001b[0;32m      2\u001b[0m \u001b[38;5;28;01mimport\u001b[39;00m \u001b[38;5;21;01mos\u001b[39;00m\n\u001b[0;32m      3\u001b[0m data_name \u001b[38;5;241m=\u001b[39m \u001b[38;5;124m\"\u001b[39m\u001b[38;5;124msecurity_attack_dataset.csv\u001b[39m\u001b[38;5;124m\"\u001b[39m\n",
      "File \u001b[1;32m~\\Desktop\\ENSIAS S3\\visualization_and_reduction_of_dimension\\Data-Engineering\\src\\dataEngineering\\tp1_utils.py:5\u001b[0m\n\u001b[0;32m      3\u001b[0m \u001b[38;5;28;01mimport\u001b[39;00m \u001b[38;5;21;01mnumpy\u001b[39;00m \u001b[38;5;28;01mas\u001b[39;00m \u001b[38;5;21;01mnp\u001b[39;00m\n\u001b[0;32m      4\u001b[0m \u001b[38;5;28;01mimport\u001b[39;00m \u001b[38;5;21;01mmatplotlib\u001b[39;00m\u001b[38;5;21;01m.\u001b[39;00m\u001b[38;5;21;01mpyplot\u001b[39;00m \u001b[38;5;28;01mas\u001b[39;00m \u001b[38;5;21;01mplt\u001b[39;00m\n\u001b[1;32m----> 5\u001b[0m \u001b[38;5;28;01mimport\u001b[39;00m \u001b[38;5;21;01mseaborn\u001b[39;00m \u001b[38;5;28;01mas\u001b[39;00m \u001b[38;5;21;01msns\u001b[39;00m\n\u001b[0;32m      7\u001b[0m \u001b[38;5;28;01mdef\u001b[39;00m \u001b[38;5;21mread_csv\u001b[39m(path) \u001b[38;5;241m-\u001b[39m\u001b[38;5;241m>\u001b[39m pd\u001b[38;5;241m.\u001b[39mDataFrame:\n\u001b[0;32m      8\u001b[0m     \u001b[38;5;28;01mif\u001b[39;00m os\u001b[38;5;241m.\u001b[39mpath\u001b[38;5;241m.\u001b[39mexists(path):\n",
      "\u001b[1;31mModuleNotFoundError\u001b[0m: No module named 'seaborn'"
     ]
    }
   ],
   "source": [
    "from dataEngineering import tp1_utils\n",
    "import os\n",
    "data_name = \"security_attack_dataset.csv\"\n",
    "path_to_data = os.path.abspath(f\"data/{data_name}\")"
   ]
  },
  {
   "cell_type": "markdown",
   "metadata": {},
   "source": [
    "## Load the Dataset"
   ]
  },
  {
   "cell_type": "code",
   "execution_count": 2,
   "metadata": {},
   "outputs": [],
   "source": [
    "df = tp1_utils.read_csv(path_to_data)"
   ]
  },
  {
   "cell_type": "markdown",
   "metadata": {},
   "source": [
    "## Display the first 10 rows of the data"
   ]
  },
  {
   "cell_type": "code",
   "execution_count": 3,
   "metadata": {},
   "outputs": [
    {
     "data": {
      "text/html": [
       "<div>\n",
       "<style scoped>\n",
       "    .dataframe tbody tr th:only-of-type {\n",
       "        vertical-align: middle;\n",
       "    }\n",
       "\n",
       "    .dataframe tbody tr th {\n",
       "        vertical-align: top;\n",
       "    }\n",
       "\n",
       "    .dataframe thead th {\n",
       "        text-align: right;\n",
       "    }\n",
       "</style>\n",
       "<table border=\"1\" class=\"dataframe\">\n",
       "  <thead>\n",
       "    <tr style=\"text-align: right;\">\n",
       "      <th></th>\n",
       "      <th>Timestamp</th>\n",
       "      <th>SourceIP</th>\n",
       "      <th>AttackType</th>\n",
       "      <th>TargetIP</th>\n",
       "      <th>AttackDurationHours</th>\n",
       "    </tr>\n",
       "  </thead>\n",
       "  <tbody>\n",
       "    <tr>\n",
       "      <th>0</th>\n",
       "      <td>2023-01-04 02:00:00</td>\n",
       "      <td>101.237.18.135</td>\n",
       "      <td>DDoS</td>\n",
       "      <td>56.151.20.145</td>\n",
       "      <td>6.545913</td>\n",
       "    </tr>\n",
       "    <tr>\n",
       "      <th>1</th>\n",
       "      <td>2023-01-02 05:00:00</td>\n",
       "      <td>13.2.114.130</td>\n",
       "      <td>Malware</td>\n",
       "      <td>239.110.38.24</td>\n",
       "      <td>19.305501</td>\n",
       "    </tr>\n",
       "    <tr>\n",
       "      <th>2</th>\n",
       "      <td>2023-01-02 18:00:00</td>\n",
       "      <td>152.233.21.95</td>\n",
       "      <td>Phishing</td>\n",
       "      <td>16.44.123.143</td>\n",
       "      <td>14.675355</td>\n",
       "    </tr>\n",
       "    <tr>\n",
       "      <th>3</th>\n",
       "      <td>2023-01-01 01:00:00</td>\n",
       "      <td>171.82.89.172</td>\n",
       "      <td>Malware</td>\n",
       "      <td>237.57.225.215</td>\n",
       "      <td>11.492876</td>\n",
       "    </tr>\n",
       "    <tr>\n",
       "      <th>4</th>\n",
       "      <td>2023-01-02 07:00:00</td>\n",
       "      <td>75.135.27.7</td>\n",
       "      <td>Phishing</td>\n",
       "      <td>43.81.255.79</td>\n",
       "      <td>21.218443</td>\n",
       "    </tr>\n",
       "    <tr>\n",
       "      <th>5</th>\n",
       "      <td>2023-01-02 09:00:00</td>\n",
       "      <td>115.132.75.69</td>\n",
       "      <td>Phishing</td>\n",
       "      <td>34.103.20.105</td>\n",
       "      <td>9.047682</td>\n",
       "    </tr>\n",
       "    <tr>\n",
       "      <th>6</th>\n",
       "      <td>2023-01-03 05:00:00</td>\n",
       "      <td>99.69.4.133</td>\n",
       "      <td>DDoS</td>\n",
       "      <td>181.168.237.231</td>\n",
       "      <td>1.009749</td>\n",
       "    </tr>\n",
       "    <tr>\n",
       "      <th>7</th>\n",
       "      <td>2023-01-03 11:00:00</td>\n",
       "      <td>14.182.42.116</td>\n",
       "      <td>Malware</td>\n",
       "      <td>80.196.169.12</td>\n",
       "      <td>13.190158</td>\n",
       "    </tr>\n",
       "    <tr>\n",
       "      <th>8</th>\n",
       "      <td>2023-01-02 04:00:00</td>\n",
       "      <td>251.11.7.167</td>\n",
       "      <td>DDoS</td>\n",
       "      <td>45.220.66.66</td>\n",
       "      <td>15.953732</td>\n",
       "    </tr>\n",
       "    <tr>\n",
       "      <th>9</th>\n",
       "      <td>2023-01-04 16:00:00</td>\n",
       "      <td>136.88.238.253</td>\n",
       "      <td>Phishing</td>\n",
       "      <td>13.237.239.165</td>\n",
       "      <td>12.347218</td>\n",
       "    </tr>\n",
       "  </tbody>\n",
       "</table>\n",
       "</div>"
      ],
      "text/plain": [
       "             Timestamp        SourceIP AttackType         TargetIP  \\\n",
       "0  2023-01-04 02:00:00  101.237.18.135       DDoS    56.151.20.145   \n",
       "1  2023-01-02 05:00:00    13.2.114.130    Malware    239.110.38.24   \n",
       "2  2023-01-02 18:00:00   152.233.21.95   Phishing    16.44.123.143   \n",
       "3  2023-01-01 01:00:00   171.82.89.172    Malware   237.57.225.215   \n",
       "4  2023-01-02 07:00:00     75.135.27.7   Phishing     43.81.255.79   \n",
       "5  2023-01-02 09:00:00   115.132.75.69   Phishing    34.103.20.105   \n",
       "6  2023-01-03 05:00:00     99.69.4.133       DDoS  181.168.237.231   \n",
       "7  2023-01-03 11:00:00   14.182.42.116    Malware    80.196.169.12   \n",
       "8  2023-01-02 04:00:00    251.11.7.167       DDoS     45.220.66.66   \n",
       "9  2023-01-04 16:00:00  136.88.238.253   Phishing   13.237.239.165   \n",
       "\n",
       "   AttackDurationHours  \n",
       "0             6.545913  \n",
       "1            19.305501  \n",
       "2            14.675355  \n",
       "3            11.492876  \n",
       "4            21.218443  \n",
       "5             9.047682  \n",
       "6             1.009749  \n",
       "7            13.190158  \n",
       "8            15.953732  \n",
       "9            12.347218  "
      ]
     },
     "execution_count": 3,
     "metadata": {},
     "output_type": "execute_result"
    }
   ],
   "source": [
    "df.head(10)   # tp1_utils.print_from_df(df, 10)"
   ]
  },
  {
   "cell_type": "markdown",
   "metadata": {},
   "source": [
    "## Describe the columns and their types"
   ]
  },
  {
   "cell_type": "code",
   "execution_count": 4,
   "metadata": {},
   "outputs": [
    {
     "name": "stdout",
     "output_type": "stream",
     "text": [
      "<class 'pandas.core.frame.DataFrame'>\n",
      "RangeIndex: 500 entries, 0 to 499\n",
      "Data columns (total 5 columns):\n",
      " #   Column               Non-Null Count  Dtype  \n",
      "---  ------               --------------  -----  \n",
      " 0   Timestamp            500 non-null    object \n",
      " 1   SourceIP             500 non-null    object \n",
      " 2   AttackType           500 non-null    object \n",
      " 3   TargetIP             500 non-null    object \n",
      " 4   AttackDurationHours  500 non-null    float64\n",
      "dtypes: float64(1), object(4)\n",
      "memory usage: 19.7+ KB\n",
      "None\n"
     ]
    }
   ],
   "source": [
    "cols_describe = tp1_utils.descreption_of_columns(df)"
   ]
  },
  {
   "cell_type": "code",
   "execution_count": 5,
   "metadata": {},
   "outputs": [
    {
     "data": {
      "text/plain": [
       "Timestamp               object\n",
       "SourceIP                object\n",
       "AttackType              object\n",
       "TargetIP                object\n",
       "AttackDurationHours    float64\n",
       "dtype: object"
      ]
     },
     "execution_count": 5,
     "metadata": {},
     "output_type": "execute_result"
    }
   ],
   "source": [
    "cols_describe"
   ]
  },
  {
   "cell_type": "markdown",
   "metadata": {},
   "source": [
    "## Separate numeric and categorical columns and count each type"
   ]
  },
  {
   "cell_type": "code",
   "execution_count": 6,
   "metadata": {},
   "outputs": [
    {
     "name": "stdout",
     "output_type": "stream",
     "text": [
      "Numeric columns: 1\n",
      "Categorical columns: 4\n"
     ]
    }
   ],
   "source": [
    "numeric_cols, categorical_cols = tp1_utils.Separate_columns_by_dtype(df)"
   ]
  },
  {
   "cell_type": "code",
   "execution_count": 7,
   "metadata": {},
   "outputs": [
    {
     "data": {
      "text/plain": [
       "['AttackDurationHours']"
      ]
     },
     "execution_count": 7,
     "metadata": {},
     "output_type": "execute_result"
    }
   ],
   "source": [
    "numeric_cols"
   ]
  },
  {
   "cell_type": "code",
   "execution_count": 8,
   "metadata": {},
   "outputs": [
    {
     "data": {
      "text/plain": [
       "['Timestamp', 'SourceIP', 'AttackType', 'TargetIP']"
      ]
     },
     "execution_count": 8,
     "metadata": {},
     "output_type": "execute_result"
    }
   ],
   "source": [
    "categorical_cols"
   ]
  },
  {
   "cell_type": "markdown",
   "metadata": {},
   "source": [
    "## Create a bar chart for the distribution of attack types"
   ]
  },
  {
   "cell_type": "code",
   "execution_count": 9,
   "metadata": {},
   "outputs": [
    {
     "data": {
      "image/png": "[encoded data removed]",
      "text/plain": [
       "<Figure size 1000x600 with 1 Axes>"
      ]
     },
     "metadata": {},
     "output_type": "display_data"
    }
   ],
   "source": [
    "tp1_utils.bar_for_distribution_of_attack_types(df)"
   ]
  },
  {
   "cell_type": "markdown",
   "metadata": {},
   "source": [
    "## Display the frequency of attacks by the hour"
   ]
  },
  {
   "cell_type": "markdown",
   "metadata": {},
   "source": [
    "### add Hour column from timestamp to df"
   ]
  },
  {
   "cell_type": "code",
   "execution_count": 10,
   "metadata": {},
   "outputs": [
    {
     "data": {
      "text/plain": [
       "Index(['Timestamp', 'SourceIP', 'AttackType', 'TargetIP',\n",
       "       'AttackDurationHours', 'timestamp', 'Hour'],\n",
       "      dtype='object')"
      ]
     },
     "execution_count": 10,
     "metadata": {},
     "output_type": "execute_result"
    }
   ],
   "source": [
    "tp1_utils.add_hour_column(df)\n",
    "df.columns"
   ]
  },
  {
   "cell_type": "markdown",
   "metadata": {},
   "source": [
    "### Plot bar chart for attack frequency by hour"
   ]
  },
  {
   "cell_type": "code",
   "execution_count": 13,
   "metadata": {},
   "outputs": [
    {
     "data": {
      "text/plain": [
       "<Axes: xlabel='Hour'>"
      ]
     },
     "execution_count": 13,
     "metadata": {},
     "output_type": "execute_result"
    },
    {
     "data": {
      "image/png": "[encoded data removed]",
      "text/plain": [
       "<Figure size 640x480 with 1 Axes>"
      ]
     },
     "metadata": {},
     "output_type": "display_data"
    }
   ],
   "source": [
    "tp1_utils.frequency_of_attacks_by_hour(df)"
   ]
  },
  {
   "cell_type": "markdown",
   "metadata": {},
   "source": [
    "## Display the frequency of attacks by the day"
   ]
  },
  {
   "cell_type": "markdown",
   "metadata": {},
   "source": [
    "### add Date column from timestamp to df"
   ]
  },
  {
   "cell_type": "code",
   "execution_count": null,
   "metadata": {},
   "outputs": [],
   "source": [
    "tp1_utils.add_date_column(df)\n",
    "df.columns"
   ]
  },
  {
   "cell_type": "markdown",
   "metadata": {},
   "source": [
    "### Plot bar chart for attack frequency by day"
   ]
  },
  {
   "cell_type": "code",
   "execution_count": null,
   "metadata": {},
   "outputs": [],
   "source": [
    "tp1_utils.frequency_of_attacks_by_day(df)"
   ]
  },
  {
   "cell_type": "markdown",
   "metadata": {},
   "source": [
    "## Pie chart for types of attacks on a specific date (e.g., 05/01/2023)"
   ]
  },
  {
   "cell_type": "code",
   "execution_count": null,
   "metadata": {},
   "outputs": [],
   "source": [
    "date = '2023-01-05'"
   ]
  },
  {
   "cell_type": "code",
   "execution_count": null,
   "metadata": {},
   "outputs": [],
   "source": [
    "tp1_utils.pie_chart_for_types_of_attacks(df, date)"
   ]
  },
  {
   "cell_type": "markdown",
   "metadata": {},
   "source": [
    "## Heatmap to visualize attack frequency by hour"
   ]
  },
  {
   "cell_type": "code",
   "execution_count": null,
   "metadata": {},
   "outputs": [],
   "source": [
    "tp1_utils.heatmap_of_attack_frequency_by_hour(df)"
   ]
  },
  {
   "cell_type": "markdown",
   "metadata": {},
   "source": [
    "## Pie chart to represent sources (source IP addresses) of attacks"
   ]
  },
  {
   "cell_type": "code",
   "execution_count": null,
   "metadata": {},
   "outputs": [],
   "source": [
    "tp1_utils.pie_chart_of_sourcesIP_of_attacks(df)"
   ]
  },
  {
   "cell_type": "code",
   "execution_count": null,
   "metadata": {},
   "outputs": [],
   "source": [
    "tp1_utils.pie_chart_of_sourcesIP_of_attacks(df, 10)"
   ]
  },
  {
   "cell_type": "markdown",
   "metadata": {},
   "source": [
    "## Pie chart to represent targets (destination IP addresses) of attacks\n"
   ]
  },
  {
   "cell_type": "code",
   "execution_count": null,
   "metadata": {},
   "outputs": [],
   "source": [
    "tp1_utils.pie_chart_targetsIP_of_attacks(df)"
   ]
  },
  {
   "cell_type": "markdown",
   "metadata": {},
   "source": [
    "## Box plot and violin plot for attack durations by type"
   ]
  },
  {
   "cell_type": "code",
   "execution_count": null,
   "metadata": {},
   "outputs": [],
   "source": [
    "tp1_utils.box_violin_plot_for_attack_durations_by_type(df)"
   ]
  }
 ],
 "metadata": {
  "kernelspec": {
   "display_name": ".venv",
   "language": "python",
   "name": "python3"
  },
  "language_info": {
   "codemirror_mode": {
    "name": "ipython",
    "version": 3
   },
   "file_extension": ".py",
   "mimetype": "text/x-python",
   "name": "python",
   "nbconvert_exporter": "python",
   "pygments_lexer": "ipython3",
   "version": "3.12.0"
  }
 },
 "nbformat": 4,
 "nbformat_minor": 2
}
